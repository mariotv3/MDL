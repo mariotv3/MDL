{
  "nbformat": 4,
  "nbformat_minor": 0,
  "metadata": {
    "colab": {
      "provenance": [],
      "include_colab_link": true
    },
    "kernelspec": {
      "name": "python3",
      "display_name": "Python 3"
    },
    "language_info": {
      "name": "python"
    }
  },
  "cells": [
    {
      "cell_type": "markdown",
      "metadata": {
        "id": "view-in-github",
        "colab_type": "text"
      },
      "source": [
        "<a href=\"https://colab.research.google.com/github/mariotv3/MDL/blob/main/IntroToSeminarCases.ipynb\" target=\"_parent\"><img src=\"https://colab.research.google.com/assets/colab-badge.svg\" alt=\"Open In Colab\"/></a>"
      ]
    },
    {
      "cell_type": "code",
      "execution_count": null,
      "metadata": {
        "id": "BQXQTIQiw3-f",
        "colab": {
          "base_uri": "https://localhost:8080/"
        },
        "outputId": "2de1b83d-593a-42d9-b740-65a0b100e061"
      },
      "outputs": [
        {
          "output_type": "stream",
          "name": "stdout",
          "text": [
            "Collecting gurobipy\n",
            "  Downloading gurobipy-11.0.1-cp310-cp310-manylinux2014_x86_64.manylinux_2_17_x86_64.whl (13.4 MB)\n",
            "\u001b[2K     \u001b[90m━━━━━━━━━━━━━━━━━━━━━━━━━━━━━━━━━━━━━━━━\u001b[0m \u001b[32m13.4/13.4 MB\u001b[0m \u001b[31m31.8 MB/s\u001b[0m eta \u001b[36m0:00:00\u001b[0m\n",
            "\u001b[?25hInstalling collected packages: gurobipy\n",
            "Successfully installed gurobipy-11.0.1\n"
          ]
        }
      ],
      "source": [
        "!python -m pip install gurobipy"
      ]
    },
    {
      "cell_type": "code",
      "source": [
        "import gurobipy as gp\n",
        "from gurobipy import *\n",
        "import pandas as pd\n",
        "import numpy as np"
      ],
      "metadata": {
        "id": "1rfgVTIFyUzR"
      },
      "execution_count": null,
      "outputs": []
    },
    {
      "cell_type": "code",
      "source": [
        "# importing values from excel file\n",
        "df = pd.read_excel('Railway services-2024.xlsx')\n",
        "df = df.iloc[:-3]\n",
        "indexes = df['Trip'].tolist()\n",
        "demand = df['Demand(μ)'].tolist()\n",
        "line = df['Line'].tolist()\n",
        "demand_stdDev = df['Demand(σ)'].tolist()"
      ],
      "metadata": {
        "id": "aVapy8iL-XoG"
      },
      "execution_count": null,
      "outputs": []
    },
    {
      "cell_type": "markdown",
      "source": [
        "Exercise 3 - Formulation 1 (Cross-sections + train types)"
      ],
      "metadata": {
        "id": "BPxOOp0WzuK7"
      }
    },
    {
      "cell_type": "code",
      "source": [
        "# create model\n",
        "m1 = gp.Model(\"first formulation ex 3\")\n",
        "\n",
        "# create variables\n",
        "N = m1.addVars(2, 200, vtype=GRB.INTEGER) #N_{u,c} variables (2 types & 200 cross-sections) (0 = OC & 1 = OH)\n",
        "\n",
        "# create coefficients\n",
        "lengthRequirement = [200 if x == 400 else 300 for x in line]\n",
        "costCoefficients = [260000, 210000]\n",
        "costDict = {}\n",
        "capacityCoefficients = [620, 420]\n",
        "capacityDict = {}\n",
        "lengthCoefficients = [100, 70]\n",
        "lengthDict = {}\n",
        "qty1Coefficients = [1, -1.25]\n",
        "qty1Dict = {}\n",
        "qty2Coefficients = [-1.25, 1]\n",
        "qty2Dict = {}\n",
        "\n",
        "for u in range(2):\n",
        "  for c in range(200):\n",
        "    costDict[(u, c)] = costCoefficients[u]\n",
        "    capacityDict[(u, c)] = capacityCoefficients[u]\n",
        "    lengthDict[(u, c)] = lengthCoefficients[u]\n",
        "    qty1Dict[(u, c)] = qty1Coefficients[u]\n",
        "    qty2Dict[(u, c)] = qty2Coefficients[u]"
      ],
      "metadata": {
        "id": "NahCKf9vyc8K",
        "colab": {
          "base_uri": "https://localhost:8080/"
        },
        "outputId": "dcbbfb53-a606-41da-e5da-4b2d60c77a1a"
      },
      "execution_count": null,
      "outputs": [
        {
          "output_type": "stream",
          "name": "stdout",
          "text": [
            "Restricted license - for non-production use only - expires 2025-11-24\n"
          ]
        }
      ]
    },
    {
      "cell_type": "code",
      "source": [
        "# Defining Objective Function\n",
        "m1.setObjective(N.prod(costDict))\n",
        "\n",
        "# Generating Constraints\n",
        "m1.addConstrs(N.prod(capacityDict, '*', c) >= demand[c]  for c in range(200))\n",
        "m1.addConstr(N.prod(qty1Dict) <= 0)\n",
        "m1.addConstr(N.prod(qty2Dict) <= 0)\n",
        "m1.addConstrs(N.prod(lengthDict, '*', c) <= lengthRequirement[c] for c in range(200))\n",
        "m1.addConstrs(N[u, c] >= 0 for u in range(2) for c in range(200))\n",
        "\n",
        "m1.optimize()"
      ],
      "metadata": {
        "id": "pH1LSB8QUnYN",
        "colab": {
          "base_uri": "https://localhost:8080/"
        },
        "outputId": "e73cac8a-87ec-40b0-9c73-71253594882a"
      },
      "execution_count": null,
      "outputs": [
        {
          "output_type": "stream",
          "name": "stdout",
          "text": [
            "Gurobi Optimizer version 11.0.1 build v11.0.1rc0 (linux64 - \"Ubuntu 22.04.3 LTS\")\n",
            "\n",
            "CPU model: Intel(R) Xeon(R) CPU @ 2.20GHz, instruction set [SSE2|AVX|AVX2]\n",
            "Thread count: 1 physical cores, 2 logical processors, using up to 2 threads\n",
            "\n",
            "Optimize a model with 802 rows, 400 columns and 2000 nonzeros\n",
            "Model fingerprint: 0x2125fd01\n",
            "Variable types: 0 continuous, 400 integer (0 binary)\n",
            "Coefficient statistics:\n",
            "  Matrix range     [1e+00, 6e+02]\n",
            "  Objective range  [2e+05, 3e+05]\n",
            "  Bounds range     [0e+00, 0e+00]\n",
            "  RHS range        [2e+02, 1e+03]\n",
            "Presolve removed 424 rows and 23 columns\n",
            "Presolve time: 0.01s\n",
            "Presolved: 378 rows, 377 columns, 1506 nonzeros\n",
            "Variable types: 0 continuous, 377 integer (0 binary)\n",
            "Found heuristic solution: objective 9.384000e+07\n",
            "\n",
            "Root relaxation: objective 7.121878e+07, 282 iterations, 0.01 seconds (0.00 work units)\n",
            "\n",
            "    Nodes    |    Current Node    |     Objective Bounds      |     Work\n",
            " Expl Unexpl |  Obj  Depth IntInf | Incumbent    BestBd   Gap | It/Node Time\n",
            "\n",
            "     0     0 7.1219e+07    0   43 9.3840e+07 7.1219e+07  24.1%     -    0s\n",
            "H    0     0                    7.550000e+07 7.1219e+07  5.67%     -    0s\n",
            "H    0     0                    7.524000e+07 7.1219e+07  5.34%     -    0s\n",
            "     0     0 7.2683e+07    0   11 7.5240e+07 7.2683e+07  3.40%     -    0s\n",
            "H    0     0                    7.294000e+07 7.2683e+07  0.35%     -    0s\n",
            "     0     0 7.2870e+07    0    9 7.2940e+07 7.2870e+07  0.10%     -    0s\n",
            "     0     0 7.2870e+07    0   11 7.2940e+07 7.2870e+07  0.10%     -    0s\n",
            "     0     0 7.2918e+07    0    2 7.2940e+07 7.2918e+07  0.03%     -    0s\n",
            "\n",
            "Cutting planes:\n",
            "  MIR: 44\n",
            "\n",
            "Explored 1 nodes (368 simplex iterations) in 0.14 seconds (0.02 work units)\n",
            "Thread count was 2 (of 2 available processors)\n",
            "\n",
            "Solution count 4: 7.294e+07 7.524e+07 7.55e+07 9.384e+07 \n",
            "\n",
            "Optimal solution found (tolerance 1.00e-04)\n",
            "Best objective 7.294000000000e+07, best bound 7.294000000000e+07, gap 0.0000%\n"
          ]
        }
      ]
    },
    {
      "cell_type": "code",
      "source": [
        "# Solve LP relaxation\n",
        "r1 = m1.relax()\n",
        "r1.optimize()"
      ],
      "metadata": {
        "colab": {
          "base_uri": "https://localhost:8080/"
        },
        "id": "dnjgyqcbBEhs",
        "outputId": "4a013bf5-1232-4bcf-b263-ab882a735a6f"
      },
      "execution_count": null,
      "outputs": [
        {
          "output_type": "stream",
          "name": "stdout",
          "text": [
            "Gurobi Optimizer version 11.0.1 build v11.0.1rc0 (linux64 - \"Ubuntu 22.04.3 LTS\")\n",
            "\n",
            "CPU model: Intel(R) Xeon(R) CPU @ 2.20GHz, instruction set [SSE2|AVX|AVX2]\n",
            "Thread count: 1 physical cores, 2 logical processors, using up to 2 threads\n",
            "\n",
            "Optimize a model with 802 rows, 400 columns and 2000 nonzeros\n",
            "Model fingerprint: 0x87787649\n",
            "Coefficient statistics:\n",
            "  Matrix range     [1e+00, 6e+02]\n",
            "  Objective range  [2e+05, 3e+05]\n",
            "  Bounds range     [0e+00, 0e+00]\n",
            "  RHS range        [2e+02, 1e+03]\n",
            "Presolve removed 400 rows and 0 columns\n",
            "Presolve time: 0.01s\n",
            "Presolved: 402 rows, 400 columns, 1600 nonzeros\n",
            "\n",
            "Iteration    Objective       Primal Inf.    Dual Inf.      Time\n",
            "       0    0.0000000e+00   4.268188e+03   0.000000e+00      0s\n",
            "     270    6.1147590e+07   0.000000e+00   0.000000e+00      0s\n",
            "\n",
            "Solved in 270 iterations and 0.02 seconds (0.00 work units)\n",
            "Optimal objective  6.114758996e+07\n"
          ]
        }
      ]
    },
    {
      "cell_type": "markdown",
      "source": [
        "Exercise 3 - Formulation 2 (Compositions + Cross-sections)"
      ],
      "metadata": {
        "id": "3SERwJiT2pa4"
      }
    },
    {
      "cell_type": "code",
      "source": [
        "# Create set of compositions - denoted as a pair of values (OC, OH), where OC is the number of OC rolling stock units and OH is the number of OH rolling stock units\n",
        "compositions = []\n",
        "minDemand = min(demand)\n",
        "\n",
        "for OC in range(4):\n",
        "  for OH in range(5):\n",
        "    if 620 * OC + 420 * OH >= min(demand) and 100 * OC + 70 * OH <= 300:\n",
        "      compositions.append((OC, OH))\n",
        "\n",
        "print(compositions)"
      ],
      "metadata": {
        "colab": {
          "base_uri": "https://localhost:8080/"
        },
        "id": "L7B6JAjT29L1",
        "outputId": "0a0e0b2a-2ddc-4ff2-f1aa-8d13fa94ec8f"
      },
      "execution_count": null,
      "outputs": [
        {
          "output_type": "stream",
          "name": "stdout",
          "text": [
            "[(0, 1), (0, 2), (0, 3), (0, 4), (1, 0), (1, 1), (1, 2), (2, 0), (2, 1), (3, 0)]\n"
          ]
        }
      ]
    },
    {
      "cell_type": "code",
      "source": [
        "# Create model\n",
        "m2 = gp.Model(\"second formulation ex 3\")\n",
        "\n",
        "# create variables\n",
        "X = m2.addVars(200, 10, vtype=GRB.BINARY) #X_{c,p} variables (200 cross-sections & 10 compositions)\n",
        "\n",
        "# create coefficients\n",
        "lengthRequirement = [200 if x == 400 else 300 for x in line]\n",
        "costCoefficients = [260000, 210000]\n",
        "costDict2 = {}\n",
        "capacityCoefficients = [620, 420]\n",
        "capacityDict2 = {}\n",
        "lengthCoefficients = [100, 70]\n",
        "lengthDict2 = {}\n",
        "qty1Coefficients = [1, -1.25]\n",
        "qty1Dict2 = {}\n",
        "numOfType1Trains = {}\n",
        "numOfType2Trains = {}\n",
        "qty2Coefficients = [-1.25, 1]\n",
        "qty2Dict2 = {}\n",
        "\n",
        "for composition in range(len(compositions)):\n",
        "  for c in range(200):\n",
        "    costDict2[(c, composition)] = costCoefficients[0] * compositions[composition][0] + costCoefficients[1] * compositions[composition][1]\n",
        "    capacityDict2[(c, composition)] = capacityCoefficients[0] * compositions[composition][0] + capacityCoefficients[1] * compositions[composition][1]\n",
        "    lengthDict2[(c, composition)] = lengthCoefficients[0] * compositions[composition][0] + lengthCoefficients[1] * compositions[composition][1]\n",
        "    qty1Dict2[(c, composition)] = qty1Coefficients[0] * compositions[composition][0] + qty1Coefficients[1] * compositions[composition][1]\n",
        "    qty2Dict2[(c, composition)] = qty2Coefficients[0] * compositions[composition][0] + qty2Coefficients[1] * compositions[composition][1]"
      ],
      "metadata": {
        "id": "Ie7qg-D-8nrn"
      },
      "execution_count": null,
      "outputs": []
    },
    {
      "cell_type": "code",
      "source": [
        "# Defining Objective Function\n",
        "m2.setObjective(X.prod(costDict2))\n",
        "\n",
        "# Generating Constraints\n",
        "m2.addConstrs(X.prod(capacityDict2, c, '*') >= demand[c]  for c in range(200))\n",
        "m2.addConstr(X.prod(qty1Dict2) <= 0)\n",
        "m2.addConstr(X.prod(qty2Dict2) <= 0)\n",
        "m2.addConstrs(X.prod(lengthDict2, c, '*') <= lengthRequirement[c] for c in range(200))\n",
        "m2.addConstrs(X.sum(c, '*') == 1 for c in range(200))\n",
        "\n",
        "m2.optimize()"
      ],
      "metadata": {
        "colab": {
          "base_uri": "https://localhost:8080/"
        },
        "id": "fIYCTKRWBWmZ",
        "outputId": "c472df31-8541-4510-9bed-9df1b93e2a3a"
      },
      "execution_count": null,
      "outputs": [
        {
          "output_type": "stream",
          "name": "stdout",
          "text": [
            "Gurobi Optimizer version 11.0.1 build v11.0.1rc0 (linux64 - \"Ubuntu 22.04.3 LTS\")\n",
            "\n",
            "CPU model: Intel(R) Xeon(R) CPU @ 2.20GHz, instruction set [SSE2|AVX|AVX2]\n",
            "Thread count: 1 physical cores, 2 logical processors, using up to 2 threads\n",
            "\n",
            "Optimize a model with 602 rows, 2000 columns and 10000 nonzeros\n",
            "Model fingerprint: 0x1848086d\n",
            "Variable types: 0 continuous, 2000 integer (2000 binary)\n",
            "Coefficient statistics:\n",
            "  Matrix range     [2e-01, 2e+03]\n",
            "  Objective range  [2e+05, 8e+05]\n",
            "  Bounds range     [1e+00, 1e+00]\n",
            "  RHS range        [1e+00, 1e+03]\n",
            "Presolve removed 404 rows and 670 columns\n",
            "Presolve time: 0.04s\n",
            "Presolved: 198 rows, 1330 columns, 3949 nonzeros\n",
            "Variable types: 0 continuous, 1330 integer (1329 binary)\n",
            "Found heuristic solution: objective 7.524000e+07\n",
            "\n",
            "Root relaxation: objective 7.291778e+07, 129 iterations, 0.00 seconds (0.00 work units)\n",
            "\n",
            "    Nodes    |    Current Node    |     Objective Bounds      |     Work\n",
            " Expl Unexpl |  Obj  Depth IntInf | Incumbent    BestBd   Gap | It/Node Time\n",
            "\n",
            "     0     0 7.2918e+07    0    1 7.5240e+07 7.2918e+07  3.09%     -    0s\n",
            "H    0     0                    7.294000e+07 7.2918e+07  0.03%     -    0s\n",
            "     0     0     cutoff    0      7.2940e+07 7.2940e+07  0.00%     -    0s\n",
            "\n",
            "Cutting planes:\n",
            "  Gomory: 1\n",
            "\n",
            "Explored 1 nodes (129 simplex iterations) in 0.12 seconds (0.03 work units)\n",
            "Thread count was 2 (of 2 available processors)\n",
            "\n",
            "Solution count 2: 7.294e+07 7.524e+07 \n",
            "\n",
            "Optimal solution found (tolerance 1.00e-04)\n",
            "Best objective 7.294000000000e+07, best bound 7.294000000000e+07, gap 0.0000%\n"
          ]
        }
      ]
    },
    {
      "cell_type": "code",
      "source": [
        "# Solve LP relaxation\n",
        "r2 = m2.relax()\n",
        "r2.optimize()"
      ],
      "metadata": {
        "colab": {
          "base_uri": "https://localhost:8080/"
        },
        "id": "xedkr8qJA6gg",
        "outputId": "248f071c-1102-48d0-d243-efe808fa82ab"
      },
      "execution_count": null,
      "outputs": [
        {
          "output_type": "stream",
          "name": "stdout",
          "text": [
            "Gurobi Optimizer version 11.0.1 build v11.0.1rc0 (linux64 - \"Ubuntu 22.04.3 LTS\")\n",
            "\n",
            "CPU model: Intel(R) Xeon(R) CPU @ 2.20GHz, instruction set [SSE2|AVX|AVX2]\n",
            "Thread count: 1 physical cores, 2 logical processors, using up to 2 threads\n",
            "\n",
            "Optimize a model with 602 rows, 2000 columns and 10000 nonzeros\n",
            "Model fingerprint: 0x97998a3d\n",
            "Coefficient statistics:\n",
            "  Matrix range     [2e-01, 2e+03]\n",
            "  Objective range  [2e+02, 8e+02]\n",
            "  Bounds range     [1e+00, 1e+00]\n",
            "  RHS range        [1e+00, 1e+03]\n",
            "Presolve time: 0.02s\n",
            "Presolved: 602 rows, 2000 columns, 10000 nonzeros\n",
            "\n",
            "Iteration    Objective       Primal Inf.    Dual Inf.      Time\n",
            "       0    4.2000000e+04   4.945719e+03   0.000000e+00      0s\n",
            "     339    6.2616490e+04   0.000000e+00   0.000000e+00      0s\n",
            "\n",
            "Solved in 339 iterations and 0.06 seconds (0.01 work units)\n",
            "Optimal objective  6.261648954e+04\n"
          ]
        }
      ]
    },
    {
      "cell_type": "markdown",
      "source": [
        "Exercise 4 - Stochastic Demand"
      ],
      "metadata": {
        "id": "BLaspTpRATi0"
      }
    },
    {
      "cell_type": "code",
      "source": [
        "# Create set of compositions - denoted as a pair of values (OC, OH), where OC is the number of OC rolling stock units and OH is the number of OH rolling stock units\n",
        "compositions = []\n",
        "minDemand = min(demand)\n",
        "\n",
        "for OC in range(4):\n",
        "  for OH in range(5):\n",
        "    if 620 * OC + 420 * OH >= min(demand) and 100 * OC + 70 * OH <= 300:\n",
        "      compositions.append((OC, OH))\n",
        "\n",
        "# Create stochastic demand\n",
        "stochasticDemands = [[0 for days in range(250)] for c in range(200)] # stochasticDemands[c][days]\n",
        "\n",
        "for c in range(200):\n",
        "  demandMean = demand[c]\n",
        "  demandStDev = demand_stdDev[c]\n",
        "  for day in range(250):\n",
        "    stochasticDemands[c][day] = np.random.normal(demandMean, demand_stdDev)\n",
        "\n",
        "params = {\n",
        "\"WLSACCESSID\": '9f6bda1d-2c0b-49c7-96a8-f172b568e9e4',\n",
        "\"WLSSECRET\": '3db7e79a-7091-4079-9dc3-c9c1382b1c4e',\n",
        "\"LICENSEID\": 2498504,\n",
        "}\n",
        "env = gp.Env(params=params)"
      ],
      "metadata": {
        "colab": {
          "base_uri": "https://localhost:8080/"
        },
        "id": "B2kKWu5CAZAW",
        "outputId": "8093474b-0a4d-4f7c-9f9f-4902cae00fd6"
      },
      "execution_count": null,
      "outputs": [
        {
          "output_type": "stream",
          "name": "stdout",
          "text": [
            "Set parameter WLSAccessID\n",
            "Set parameter WLSSecret\n",
            "Set parameter LicenseID to value 2498504\n",
            "Academic license 2498504 - for non-commercial use only - registered to 61___@eur.nl\n"
          ]
        }
      ]
    },
    {
      "cell_type": "code",
      "source": [
        "# Create model\n",
        "m3 = gp.Model(\"Exercise 4 second formulation\", env = env)\n",
        "\n",
        "# Create variables\n",
        "X2 = m3.addVars(200, 10, vtype=GRB.BINARY) #X_{c,p} variables (200 cross-sections & 10 compositions)\n",
        "Y = m3.addVars(200, 250, vtype=GRB.BINARY) #Y_{c, d} variables (200 cross-sections & 250 days)\n",
        "\n",
        "# Create coefficients\n",
        "lengthRequirement = [200 if x == 400 else 300 for x in line]\n",
        "costCoefficients = [260000, 210000]\n",
        "costDict3 = {}\n",
        "capacityCoefficients = [620, 420]\n",
        "capacityDict3 = {}\n",
        "lengthCoefficients = [100, 70]\n",
        "lengthDict3 = {}\n",
        "qty1Coefficients = [1, -1.25]\n",
        "qty1Dict3 = {}\n",
        "numOfType1Trains = {}\n",
        "numOfType2Trains = {}\n",
        "qty2Coefficients = [-1.25, 1]\n",
        "qty2Dict3 = {}\n",
        "M = 1000\n",
        "\n",
        "for composition in range(len(compositions)):\n",
        "  for c in range(200):\n",
        "    capacityDict3[(c, composition)] = capacityCoefficients[0] * compositions[composition][0] + capacityCoefficients[1] * compositions[composition][1]\n",
        "    costDict3[(c, composition)] = costCoefficients[0] * compositions[composition][0] + costCoefficients[1] * compositions[composition][1]\n",
        "    lengthDict3[(c, composition)] = lengthCoefficients[0] * compositions[composition][0] + lengthCoefficients[1] * compositions[composition][1]\n",
        "    qty1Dict3[(c, composition)] = qty1Coefficients[0] * compositions[composition][0] + qty1Coefficients[1] * compositions[composition][1]\n",
        "    qty2Dict3[(c, composition)] = qty2Coefficients[0] * compositions[composition][0] + qty2Coefficients[1] * compositions[composition][1]\n",
        "\n",
        "print(capacityDict3)"
      ],
      "metadata": {
        "colab": {
          "base_uri": "https://localhost:8080/"
        },
        "id": "vHIKBAfPbUCU",
        "outputId": "af4b34c3-ad2c-4468-e196-682eaa2cedc7"
      },
      "execution_count": null,
      "outputs": [
        {
          "output_type": "stream",
          "name": "stdout",
          "text": [
            "{(0, 0): 420, (1, 0): 420, (2, 0): 420, (3, 0): 420, (4, 0): 420, (5, 0): 420, (6, 0): 420, (7, 0): 420, (8, 0): 420, (9, 0): 420, (10, 0): 420, (11, 0): 420, (12, 0): 420, (13, 0): 420, (14, 0): 420, (15, 0): 420, (16, 0): 420, (17, 0): 420, (18, 0): 420, (19, 0): 420, (20, 0): 420, (21, 0): 420, (22, 0): 420, (23, 0): 420, (24, 0): 420, (25, 0): 420, (26, 0): 420, (27, 0): 420, (28, 0): 420, (29, 0): 420, (30, 0): 420, (31, 0): 420, (32, 0): 420, (33, 0): 420, (34, 0): 420, (35, 0): 420, (36, 0): 420, (37, 0): 420, (38, 0): 420, (39, 0): 420, (40, 0): 420, (41, 0): 420, (42, 0): 420, (43, 0): 420, (44, 0): 420, (45, 0): 420, (46, 0): 420, (47, 0): 420, (48, 0): 420, (49, 0): 420, (50, 0): 420, (51, 0): 420, (52, 0): 420, (53, 0): 420, (54, 0): 420, (55, 0): 420, (56, 0): 420, (57, 0): 420, (58, 0): 420, (59, 0): 420, (60, 0): 420, (61, 0): 420, (62, 0): 420, (63, 0): 420, (64, 0): 420, (65, 0): 420, (66, 0): 420, (67, 0): 420, (68, 0): 420, (69, 0): 420, (70, 0): 420, (71, 0): 420, (72, 0): 420, (73, 0): 420, (74, 0): 420, (75, 0): 420, (76, 0): 420, (77, 0): 420, (78, 0): 420, (79, 0): 420, (80, 0): 420, (81, 0): 420, (82, 0): 420, (83, 0): 420, (84, 0): 420, (85, 0): 420, (86, 0): 420, (87, 0): 420, (88, 0): 420, (89, 0): 420, (90, 0): 420, (91, 0): 420, (92, 0): 420, (93, 0): 420, (94, 0): 420, (95, 0): 420, (96, 0): 420, (97, 0): 420, (98, 0): 420, (99, 0): 420, (100, 0): 420, (101, 0): 420, (102, 0): 420, (103, 0): 420, (104, 0): 420, (105, 0): 420, (106, 0): 420, (107, 0): 420, (108, 0): 420, (109, 0): 420, (110, 0): 420, (111, 0): 420, (112, 0): 420, (113, 0): 420, (114, 0): 420, (115, 0): 420, (116, 0): 420, (117, 0): 420, (118, 0): 420, (119, 0): 420, (120, 0): 420, (121, 0): 420, (122, 0): 420, (123, 0): 420, (124, 0): 420, (125, 0): 420, (126, 0): 420, (127, 0): 420, (128, 0): 420, (129, 0): 420, (130, 0): 420, (131, 0): 420, (132, 0): 420, (133, 0): 420, (134, 0): 420, (135, 0): 420, (136, 0): 420, (137, 0): 420, (138, 0): 420, (139, 0): 420, (140, 0): 420, (141, 0): 420, (142, 0): 420, (143, 0): 420, (144, 0): 420, (145, 0): 420, (146, 0): 420, (147, 0): 420, (148, 0): 420, (149, 0): 420, (150, 0): 420, (151, 0): 420, (152, 0): 420, (153, 0): 420, (154, 0): 420, (155, 0): 420, (156, 0): 420, (157, 0): 420, (158, 0): 420, (159, 0): 420, (160, 0): 420, (161, 0): 420, (162, 0): 420, (163, 0): 420, (164, 0): 420, (165, 0): 420, (166, 0): 420, (167, 0): 420, (168, 0): 420, (169, 0): 420, (170, 0): 420, (171, 0): 420, (172, 0): 420, (173, 0): 420, (174, 0): 420, (175, 0): 420, (176, 0): 420, (177, 0): 420, (178, 0): 420, (179, 0): 420, (180, 0): 420, (181, 0): 420, (182, 0): 420, (183, 0): 420, (184, 0): 420, (185, 0): 420, (186, 0): 420, (187, 0): 420, (188, 0): 420, (189, 0): 420, (190, 0): 420, (191, 0): 420, (192, 0): 420, (193, 0): 420, (194, 0): 420, (195, 0): 420, (196, 0): 420, (197, 0): 420, (198, 0): 420, (199, 0): 420, (0, 1): 840, (1, 1): 840, (2, 1): 840, (3, 1): 840, (4, 1): 840, (5, 1): 840, (6, 1): 840, (7, 1): 840, (8, 1): 840, (9, 1): 840, (10, 1): 840, (11, 1): 840, (12, 1): 840, (13, 1): 840, (14, 1): 840, (15, 1): 840, (16, 1): 840, (17, 1): 840, (18, 1): 840, (19, 1): 840, (20, 1): 840, (21, 1): 840, (22, 1): 840, (23, 1): 840, (24, 1): 840, (25, 1): 840, (26, 1): 840, (27, 1): 840, (28, 1): 840, (29, 1): 840, (30, 1): 840, (31, 1): 840, (32, 1): 840, (33, 1): 840, (34, 1): 840, (35, 1): 840, (36, 1): 840, (37, 1): 840, (38, 1): 840, (39, 1): 840, (40, 1): 840, (41, 1): 840, (42, 1): 840, (43, 1): 840, (44, 1): 840, (45, 1): 840, (46, 1): 840, (47, 1): 840, (48, 1): 840, (49, 1): 840, (50, 1): 840, (51, 1): 840, (52, 1): 840, (53, 1): 840, (54, 1): 840, (55, 1): 840, (56, 1): 840, (57, 1): 840, (58, 1): 840, (59, 1): 840, (60, 1): 840, (61, 1): 840, (62, 1): 840, (63, 1): 840, (64, 1): 840, (65, 1): 840, (66, 1): 840, (67, 1): 840, (68, 1): 840, (69, 1): 840, (70, 1): 840, (71, 1): 840, (72, 1): 840, (73, 1): 840, (74, 1): 840, (75, 1): 840, (76, 1): 840, (77, 1): 840, (78, 1): 840, (79, 1): 840, (80, 1): 840, (81, 1): 840, (82, 1): 840, (83, 1): 840, (84, 1): 840, (85, 1): 840, (86, 1): 840, (87, 1): 840, (88, 1): 840, (89, 1): 840, (90, 1): 840, (91, 1): 840, (92, 1): 840, (93, 1): 840, (94, 1): 840, (95, 1): 840, (96, 1): 840, (97, 1): 840, (98, 1): 840, (99, 1): 840, (100, 1): 840, (101, 1): 840, (102, 1): 840, (103, 1): 840, (104, 1): 840, (105, 1): 840, (106, 1): 840, (107, 1): 840, (108, 1): 840, (109, 1): 840, (110, 1): 840, (111, 1): 840, (112, 1): 840, (113, 1): 840, (114, 1): 840, (115, 1): 840, (116, 1): 840, (117, 1): 840, (118, 1): 840, (119, 1): 840, (120, 1): 840, (121, 1): 840, (122, 1): 840, (123, 1): 840, (124, 1): 840, (125, 1): 840, (126, 1): 840, (127, 1): 840, (128, 1): 840, (129, 1): 840, (130, 1): 840, (131, 1): 840, (132, 1): 840, (133, 1): 840, (134, 1): 840, (135, 1): 840, (136, 1): 840, (137, 1): 840, (138, 1): 840, (139, 1): 840, (140, 1): 840, (141, 1): 840, (142, 1): 840, (143, 1): 840, (144, 1): 840, (145, 1): 840, (146, 1): 840, (147, 1): 840, (148, 1): 840, (149, 1): 840, (150, 1): 840, (151, 1): 840, (152, 1): 840, (153, 1): 840, (154, 1): 840, (155, 1): 840, (156, 1): 840, (157, 1): 840, (158, 1): 840, (159, 1): 840, (160, 1): 840, (161, 1): 840, (162, 1): 840, (163, 1): 840, (164, 1): 840, (165, 1): 840, (166, 1): 840, (167, 1): 840, (168, 1): 840, (169, 1): 840, (170, 1): 840, (171, 1): 840, (172, 1): 840, (173, 1): 840, (174, 1): 840, (175, 1): 840, (176, 1): 840, (177, 1): 840, (178, 1): 840, (179, 1): 840, (180, 1): 840, (181, 1): 840, (182, 1): 840, (183, 1): 840, (184, 1): 840, (185, 1): 840, (186, 1): 840, (187, 1): 840, (188, 1): 840, (189, 1): 840, (190, 1): 840, (191, 1): 840, (192, 1): 840, (193, 1): 840, (194, 1): 840, (195, 1): 840, (196, 1): 840, (197, 1): 840, (198, 1): 840, (199, 1): 840, (0, 2): 1260, (1, 2): 1260, (2, 2): 1260, (3, 2): 1260, (4, 2): 1260, (5, 2): 1260, (6, 2): 1260, (7, 2): 1260, (8, 2): 1260, (9, 2): 1260, (10, 2): 1260, (11, 2): 1260, (12, 2): 1260, (13, 2): 1260, (14, 2): 1260, (15, 2): 1260, (16, 2): 1260, (17, 2): 1260, (18, 2): 1260, (19, 2): 1260, (20, 2): 1260, (21, 2): 1260, (22, 2): 1260, (23, 2): 1260, (24, 2): 1260, (25, 2): 1260, (26, 2): 1260, (27, 2): 1260, (28, 2): 1260, (29, 2): 1260, (30, 2): 1260, (31, 2): 1260, (32, 2): 1260, (33, 2): 1260, (34, 2): 1260, (35, 2): 1260, (36, 2): 1260, (37, 2): 1260, (38, 2): 1260, (39, 2): 1260, (40, 2): 1260, (41, 2): 1260, (42, 2): 1260, (43, 2): 1260, (44, 2): 1260, (45, 2): 1260, (46, 2): 1260, (47, 2): 1260, (48, 2): 1260, (49, 2): 1260, (50, 2): 1260, (51, 2): 1260, (52, 2): 1260, (53, 2): 1260, (54, 2): 1260, (55, 2): 1260, (56, 2): 1260, (57, 2): 1260, (58, 2): 1260, (59, 2): 1260, (60, 2): 1260, (61, 2): 1260, (62, 2): 1260, (63, 2): 1260, (64, 2): 1260, (65, 2): 1260, (66, 2): 1260, (67, 2): 1260, (68, 2): 1260, (69, 2): 1260, (70, 2): 1260, (71, 2): 1260, (72, 2): 1260, (73, 2): 1260, (74, 2): 1260, (75, 2): 1260, (76, 2): 1260, (77, 2): 1260, (78, 2): 1260, (79, 2): 1260, (80, 2): 1260, (81, 2): 1260, (82, 2): 1260, (83, 2): 1260, (84, 2): 1260, (85, 2): 1260, (86, 2): 1260, (87, 2): 1260, (88, 2): 1260, (89, 2): 1260, (90, 2): 1260, (91, 2): 1260, (92, 2): 1260, (93, 2): 1260, (94, 2): 1260, (95, 2): 1260, (96, 2): 1260, (97, 2): 1260, (98, 2): 1260, (99, 2): 1260, (100, 2): 1260, (101, 2): 1260, (102, 2): 1260, (103, 2): 1260, (104, 2): 1260, (105, 2): 1260, (106, 2): 1260, (107, 2): 1260, (108, 2): 1260, (109, 2): 1260, (110, 2): 1260, (111, 2): 1260, (112, 2): 1260, (113, 2): 1260, (114, 2): 1260, (115, 2): 1260, (116, 2): 1260, (117, 2): 1260, (118, 2): 1260, (119, 2): 1260, (120, 2): 1260, (121, 2): 1260, (122, 2): 1260, (123, 2): 1260, (124, 2): 1260, (125, 2): 1260, (126, 2): 1260, (127, 2): 1260, (128, 2): 1260, (129, 2): 1260, (130, 2): 1260, (131, 2): 1260, (132, 2): 1260, (133, 2): 1260, (134, 2): 1260, (135, 2): 1260, (136, 2): 1260, (137, 2): 1260, (138, 2): 1260, (139, 2): 1260, (140, 2): 1260, (141, 2): 1260, (142, 2): 1260, (143, 2): 1260, (144, 2): 1260, (145, 2): 1260, (146, 2): 1260, (147, 2): 1260, (148, 2): 1260, (149, 2): 1260, (150, 2): 1260, (151, 2): 1260, (152, 2): 1260, (153, 2): 1260, (154, 2): 1260, (155, 2): 1260, (156, 2): 1260, (157, 2): 1260, (158, 2): 1260, (159, 2): 1260, (160, 2): 1260, (161, 2): 1260, (162, 2): 1260, (163, 2): 1260, (164, 2): 1260, (165, 2): 1260, (166, 2): 1260, (167, 2): 1260, (168, 2): 1260, (169, 2): 1260, (170, 2): 1260, (171, 2): 1260, (172, 2): 1260, (173, 2): 1260, (174, 2): 1260, (175, 2): 1260, (176, 2): 1260, (177, 2): 1260, (178, 2): 1260, (179, 2): 1260, (180, 2): 1260, (181, 2): 1260, (182, 2): 1260, (183, 2): 1260, (184, 2): 1260, (185, 2): 1260, (186, 2): 1260, (187, 2): 1260, (188, 2): 1260, (189, 2): 1260, (190, 2): 1260, (191, 2): 1260, (192, 2): 1260, (193, 2): 1260, (194, 2): 1260, (195, 2): 1260, (196, 2): 1260, (197, 2): 1260, (198, 2): 1260, (199, 2): 1260, (0, 3): 1680, (1, 3): 1680, (2, 3): 1680, (3, 3): 1680, (4, 3): 1680, (5, 3): 1680, (6, 3): 1680, (7, 3): 1680, (8, 3): 1680, (9, 3): 1680, (10, 3): 1680, (11, 3): 1680, (12, 3): 1680, (13, 3): 1680, (14, 3): 1680, (15, 3): 1680, (16, 3): 1680, (17, 3): 1680, (18, 3): 1680, (19, 3): 1680, (20, 3): 1680, (21, 3): 1680, (22, 3): 1680, (23, 3): 1680, (24, 3): 1680, (25, 3): 1680, (26, 3): 1680, (27, 3): 1680, (28, 3): 1680, (29, 3): 1680, (30, 3): 1680, (31, 3): 1680, (32, 3): 1680, (33, 3): 1680, (34, 3): 1680, (35, 3): 1680, (36, 3): 1680, (37, 3): 1680, (38, 3): 1680, (39, 3): 1680, (40, 3): 1680, (41, 3): 1680, (42, 3): 1680, (43, 3): 1680, (44, 3): 1680, (45, 3): 1680, (46, 3): 1680, (47, 3): 1680, (48, 3): 1680, (49, 3): 1680, (50, 3): 1680, (51, 3): 1680, (52, 3): 1680, (53, 3): 1680, (54, 3): 1680, (55, 3): 1680, (56, 3): 1680, (57, 3): 1680, (58, 3): 1680, (59, 3): 1680, (60, 3): 1680, (61, 3): 1680, (62, 3): 1680, (63, 3): 1680, (64, 3): 1680, (65, 3): 1680, (66, 3): 1680, (67, 3): 1680, (68, 3): 1680, (69, 3): 1680, (70, 3): 1680, (71, 3): 1680, (72, 3): 1680, (73, 3): 1680, (74, 3): 1680, (75, 3): 1680, (76, 3): 1680, (77, 3): 1680, (78, 3): 1680, (79, 3): 1680, (80, 3): 1680, (81, 3): 1680, (82, 3): 1680, (83, 3): 1680, (84, 3): 1680, (85, 3): 1680, (86, 3): 1680, (87, 3): 1680, (88, 3): 1680, (89, 3): 1680, (90, 3): 1680, (91, 3): 1680, (92, 3): 1680, (93, 3): 1680, (94, 3): 1680, (95, 3): 1680, (96, 3): 1680, (97, 3): 1680, (98, 3): 1680, (99, 3): 1680, (100, 3): 1680, (101, 3): 1680, (102, 3): 1680, (103, 3): 1680, (104, 3): 1680, (105, 3): 1680, (106, 3): 1680, (107, 3): 1680, (108, 3): 1680, (109, 3): 1680, (110, 3): 1680, (111, 3): 1680, (112, 3): 1680, (113, 3): 1680, (114, 3): 1680, (115, 3): 1680, (116, 3): 1680, (117, 3): 1680, (118, 3): 1680, (119, 3): 1680, (120, 3): 1680, (121, 3): 1680, (122, 3): 1680, (123, 3): 1680, (124, 3): 1680, (125, 3): 1680, (126, 3): 1680, (127, 3): 1680, (128, 3): 1680, (129, 3): 1680, (130, 3): 1680, (131, 3): 1680, (132, 3): 1680, (133, 3): 1680, (134, 3): 1680, (135, 3): 1680, (136, 3): 1680, (137, 3): 1680, (138, 3): 1680, (139, 3): 1680, (140, 3): 1680, (141, 3): 1680, (142, 3): 1680, (143, 3): 1680, (144, 3): 1680, (145, 3): 1680, (146, 3): 1680, (147, 3): 1680, (148, 3): 1680, (149, 3): 1680, (150, 3): 1680, (151, 3): 1680, (152, 3): 1680, (153, 3): 1680, (154, 3): 1680, (155, 3): 1680, (156, 3): 1680, (157, 3): 1680, (158, 3): 1680, (159, 3): 1680, (160, 3): 1680, (161, 3): 1680, (162, 3): 1680, (163, 3): 1680, (164, 3): 1680, (165, 3): 1680, (166, 3): 1680, (167, 3): 1680, (168, 3): 1680, (169, 3): 1680, (170, 3): 1680, (171, 3): 1680, (172, 3): 1680, (173, 3): 1680, (174, 3): 1680, (175, 3): 1680, (176, 3): 1680, (177, 3): 1680, (178, 3): 1680, (179, 3): 1680, (180, 3): 1680, (181, 3): 1680, (182, 3): 1680, (183, 3): 1680, (184, 3): 1680, (185, 3): 1680, (186, 3): 1680, (187, 3): 1680, (188, 3): 1680, (189, 3): 1680, (190, 3): 1680, (191, 3): 1680, (192, 3): 1680, (193, 3): 1680, (194, 3): 1680, (195, 3): 1680, (196, 3): 1680, (197, 3): 1680, (198, 3): 1680, (199, 3): 1680, (0, 4): 620, (1, 4): 620, (2, 4): 620, (3, 4): 620, (4, 4): 620, (5, 4): 620, (6, 4): 620, (7, 4): 620, (8, 4): 620, (9, 4): 620, (10, 4): 620, (11, 4): 620, (12, 4): 620, (13, 4): 620, (14, 4): 620, (15, 4): 620, (16, 4): 620, (17, 4): 620, (18, 4): 620, (19, 4): 620, (20, 4): 620, (21, 4): 620, (22, 4): 620, (23, 4): 620, (24, 4): 620, (25, 4): 620, (26, 4): 620, (27, 4): 620, (28, 4): 620, (29, 4): 620, (30, 4): 620, (31, 4): 620, (32, 4): 620, (33, 4): 620, (34, 4): 620, (35, 4): 620, (36, 4): 620, (37, 4): 620, (38, 4): 620, (39, 4): 620, (40, 4): 620, (41, 4): 620, (42, 4): 620, (43, 4): 620, (44, 4): 620, (45, 4): 620, (46, 4): 620, (47, 4): 620, (48, 4): 620, (49, 4): 620, (50, 4): 620, (51, 4): 620, (52, 4): 620, (53, 4): 620, (54, 4): 620, (55, 4): 620, (56, 4): 620, (57, 4): 620, (58, 4): 620, (59, 4): 620, (60, 4): 620, (61, 4): 620, (62, 4): 620, (63, 4): 620, (64, 4): 620, (65, 4): 620, (66, 4): 620, (67, 4): 620, (68, 4): 620, (69, 4): 620, (70, 4): 620, (71, 4): 620, (72, 4): 620, (73, 4): 620, (74, 4): 620, (75, 4): 620, (76, 4): 620, (77, 4): 620, (78, 4): 620, (79, 4): 620, (80, 4): 620, (81, 4): 620, (82, 4): 620, (83, 4): 620, (84, 4): 620, (85, 4): 620, (86, 4): 620, (87, 4): 620, (88, 4): 620, (89, 4): 620, (90, 4): 620, (91, 4): 620, (92, 4): 620, (93, 4): 620, (94, 4): 620, (95, 4): 620, (96, 4): 620, (97, 4): 620, (98, 4): 620, (99, 4): 620, (100, 4): 620, (101, 4): 620, (102, 4): 620, (103, 4): 620, (104, 4): 620, (105, 4): 620, (106, 4): 620, (107, 4): 620, (108, 4): 620, (109, 4): 620, (110, 4): 620, (111, 4): 620, (112, 4): 620, (113, 4): 620, (114, 4): 620, (115, 4): 620, (116, 4): 620, (117, 4): 620, (118, 4): 620, (119, 4): 620, (120, 4): 620, (121, 4): 620, (122, 4): 620, (123, 4): 620, (124, 4): 620, (125, 4): 620, (126, 4): 620, (127, 4): 620, (128, 4): 620, (129, 4): 620, (130, 4): 620, (131, 4): 620, (132, 4): 620, (133, 4): 620, (134, 4): 620, (135, 4): 620, (136, 4): 620, (137, 4): 620, (138, 4): 620, (139, 4): 620, (140, 4): 620, (141, 4): 620, (142, 4): 620, (143, 4): 620, (144, 4): 620, (145, 4): 620, (146, 4): 620, (147, 4): 620, (148, 4): 620, (149, 4): 620, (150, 4): 620, (151, 4): 620, (152, 4): 620, (153, 4): 620, (154, 4): 620, (155, 4): 620, (156, 4): 620, (157, 4): 620, (158, 4): 620, (159, 4): 620, (160, 4): 620, (161, 4): 620, (162, 4): 620, (163, 4): 620, (164, 4): 620, (165, 4): 620, (166, 4): 620, (167, 4): 620, (168, 4): 620, (169, 4): 620, (170, 4): 620, (171, 4): 620, (172, 4): 620, (173, 4): 620, (174, 4): 620, (175, 4): 620, (176, 4): 620, (177, 4): 620, (178, 4): 620, (179, 4): 620, (180, 4): 620, (181, 4): 620, (182, 4): 620, (183, 4): 620, (184, 4): 620, (185, 4): 620, (186, 4): 620, (187, 4): 620, (188, 4): 620, (189, 4): 620, (190, 4): 620, (191, 4): 620, (192, 4): 620, (193, 4): 620, (194, 4): 620, (195, 4): 620, (196, 4): 620, (197, 4): 620, (198, 4): 620, (199, 4): 620, (0, 5): 1040, (1, 5): 1040, (2, 5): 1040, (3, 5): 1040, (4, 5): 1040, (5, 5): 1040, (6, 5): 1040, (7, 5): 1040, (8, 5): 1040, (9, 5): 1040, (10, 5): 1040, (11, 5): 1040, (12, 5): 1040, (13, 5): 1040, (14, 5): 1040, (15, 5): 1040, (16, 5): 1040, (17, 5): 1040, (18, 5): 1040, (19, 5): 1040, (20, 5): 1040, (21, 5): 1040, (22, 5): 1040, (23, 5): 1040, (24, 5): 1040, (25, 5): 1040, (26, 5): 1040, (27, 5): 1040, (28, 5): 1040, (29, 5): 1040, (30, 5): 1040, (31, 5): 1040, (32, 5): 1040, (33, 5): 1040, (34, 5): 1040, (35, 5): 1040, (36, 5): 1040, (37, 5): 1040, (38, 5): 1040, (39, 5): 1040, (40, 5): 1040, (41, 5): 1040, (42, 5): 1040, (43, 5): 1040, (44, 5): 1040, (45, 5): 1040, (46, 5): 1040, (47, 5): 1040, (48, 5): 1040, (49, 5): 1040, (50, 5): 1040, (51, 5): 1040, (52, 5): 1040, (53, 5): 1040, (54, 5): 1040, (55, 5): 1040, (56, 5): 1040, (57, 5): 1040, (58, 5): 1040, (59, 5): 1040, (60, 5): 1040, (61, 5): 1040, (62, 5): 1040, (63, 5): 1040, (64, 5): 1040, (65, 5): 1040, (66, 5): 1040, (67, 5): 1040, (68, 5): 1040, (69, 5): 1040, (70, 5): 1040, (71, 5): 1040, (72, 5): 1040, (73, 5): 1040, (74, 5): 1040, (75, 5): 1040, (76, 5): 1040, (77, 5): 1040, (78, 5): 1040, (79, 5): 1040, (80, 5): 1040, (81, 5): 1040, (82, 5): 1040, (83, 5): 1040, (84, 5): 1040, (85, 5): 1040, (86, 5): 1040, (87, 5): 1040, (88, 5): 1040, (89, 5): 1040, (90, 5): 1040, (91, 5): 1040, (92, 5): 1040, (93, 5): 1040, (94, 5): 1040, (95, 5): 1040, (96, 5): 1040, (97, 5): 1040, (98, 5): 1040, (99, 5): 1040, (100, 5): 1040, (101, 5): 1040, (102, 5): 1040, (103, 5): 1040, (104, 5): 1040, (105, 5): 1040, (106, 5): 1040, (107, 5): 1040, (108, 5): 1040, (109, 5): 1040, (110, 5): 1040, (111, 5): 1040, (112, 5): 1040, (113, 5): 1040, (114, 5): 1040, (115, 5): 1040, (116, 5): 1040, (117, 5): 1040, (118, 5): 1040, (119, 5): 1040, (120, 5): 1040, (121, 5): 1040, (122, 5): 1040, (123, 5): 1040, (124, 5): 1040, (125, 5): 1040, (126, 5): 1040, (127, 5): 1040, (128, 5): 1040, (129, 5): 1040, (130, 5): 1040, (131, 5): 1040, (132, 5): 1040, (133, 5): 1040, (134, 5): 1040, (135, 5): 1040, (136, 5): 1040, (137, 5): 1040, (138, 5): 1040, (139, 5): 1040, (140, 5): 1040, (141, 5): 1040, (142, 5): 1040, (143, 5): 1040, (144, 5): 1040, (145, 5): 1040, (146, 5): 1040, (147, 5): 1040, (148, 5): 1040, (149, 5): 1040, (150, 5): 1040, (151, 5): 1040, (152, 5): 1040, (153, 5): 1040, (154, 5): 1040, (155, 5): 1040, (156, 5): 1040, (157, 5): 1040, (158, 5): 1040, (159, 5): 1040, (160, 5): 1040, (161, 5): 1040, (162, 5): 1040, (163, 5): 1040, (164, 5): 1040, (165, 5): 1040, (166, 5): 1040, (167, 5): 1040, (168, 5): 1040, (169, 5): 1040, (170, 5): 1040, (171, 5): 1040, (172, 5): 1040, (173, 5): 1040, (174, 5): 1040, (175, 5): 1040, (176, 5): 1040, (177, 5): 1040, (178, 5): 1040, (179, 5): 1040, (180, 5): 1040, (181, 5): 1040, (182, 5): 1040, (183, 5): 1040, (184, 5): 1040, (185, 5): 1040, (186, 5): 1040, (187, 5): 1040, (188, 5): 1040, (189, 5): 1040, (190, 5): 1040, (191, 5): 1040, (192, 5): 1040, (193, 5): 1040, (194, 5): 1040, (195, 5): 1040, (196, 5): 1040, (197, 5): 1040, (198, 5): 1040, (199, 5): 1040, (0, 6): 1460, (1, 6): 1460, (2, 6): 1460, (3, 6): 1460, (4, 6): 1460, (5, 6): 1460, (6, 6): 1460, (7, 6): 1460, (8, 6): 1460, (9, 6): 1460, (10, 6): 1460, (11, 6): 1460, (12, 6): 1460, (13, 6): 1460, (14, 6): 1460, (15, 6): 1460, (16, 6): 1460, (17, 6): 1460, (18, 6): 1460, (19, 6): 1460, (20, 6): 1460, (21, 6): 1460, (22, 6): 1460, (23, 6): 1460, (24, 6): 1460, (25, 6): 1460, (26, 6): 1460, (27, 6): 1460, (28, 6): 1460, (29, 6): 1460, (30, 6): 1460, (31, 6): 1460, (32, 6): 1460, (33, 6): 1460, (34, 6): 1460, (35, 6): 1460, (36, 6): 1460, (37, 6): 1460, (38, 6): 1460, (39, 6): 1460, (40, 6): 1460, (41, 6): 1460, (42, 6): 1460, (43, 6): 1460, (44, 6): 1460, (45, 6): 1460, (46, 6): 1460, (47, 6): 1460, (48, 6): 1460, (49, 6): 1460, (50, 6): 1460, (51, 6): 1460, (52, 6): 1460, (53, 6): 1460, (54, 6): 1460, (55, 6): 1460, (56, 6): 1460, (57, 6): 1460, (58, 6): 1460, (59, 6): 1460, (60, 6): 1460, (61, 6): 1460, (62, 6): 1460, (63, 6): 1460, (64, 6): 1460, (65, 6): 1460, (66, 6): 1460, (67, 6): 1460, (68, 6): 1460, (69, 6): 1460, (70, 6): 1460, (71, 6): 1460, (72, 6): 1460, (73, 6): 1460, (74, 6): 1460, (75, 6): 1460, (76, 6): 1460, (77, 6): 1460, (78, 6): 1460, (79, 6): 1460, (80, 6): 1460, (81, 6): 1460, (82, 6): 1460, (83, 6): 1460, (84, 6): 1460, (85, 6): 1460, (86, 6): 1460, (87, 6): 1460, (88, 6): 1460, (89, 6): 1460, (90, 6): 1460, (91, 6): 1460, (92, 6): 1460, (93, 6): 1460, (94, 6): 1460, (95, 6): 1460, (96, 6): 1460, (97, 6): 1460, (98, 6): 1460, (99, 6): 1460, (100, 6): 1460, (101, 6): 1460, (102, 6): 1460, (103, 6): 1460, (104, 6): 1460, (105, 6): 1460, (106, 6): 1460, (107, 6): 1460, (108, 6): 1460, (109, 6): 1460, (110, 6): 1460, (111, 6): 1460, (112, 6): 1460, (113, 6): 1460, (114, 6): 1460, (115, 6): 1460, (116, 6): 1460, (117, 6): 1460, (118, 6): 1460, (119, 6): 1460, (120, 6): 1460, (121, 6): 1460, (122, 6): 1460, (123, 6): 1460, (124, 6): 1460, (125, 6): 1460, (126, 6): 1460, (127, 6): 1460, (128, 6): 1460, (129, 6): 1460, (130, 6): 1460, (131, 6): 1460, (132, 6): 1460, (133, 6): 1460, (134, 6): 1460, (135, 6): 1460, (136, 6): 1460, (137, 6): 1460, (138, 6): 1460, (139, 6): 1460, (140, 6): 1460, (141, 6): 1460, (142, 6): 1460, (143, 6): 1460, (144, 6): 1460, (145, 6): 1460, (146, 6): 1460, (147, 6): 1460, (148, 6): 1460, (149, 6): 1460, (150, 6): 1460, (151, 6): 1460, (152, 6): 1460, (153, 6): 1460, (154, 6): 1460, (155, 6): 1460, (156, 6): 1460, (157, 6): 1460, (158, 6): 1460, (159, 6): 1460, (160, 6): 1460, (161, 6): 1460, (162, 6): 1460, (163, 6): 1460, (164, 6): 1460, (165, 6): 1460, (166, 6): 1460, (167, 6): 1460, (168, 6): 1460, (169, 6): 1460, (170, 6): 1460, (171, 6): 1460, (172, 6): 1460, (173, 6): 1460, (174, 6): 1460, (175, 6): 1460, (176, 6): 1460, (177, 6): 1460, (178, 6): 1460, (179, 6): 1460, (180, 6): 1460, (181, 6): 1460, (182, 6): 1460, (183, 6): 1460, (184, 6): 1460, (185, 6): 1460, (186, 6): 1460, (187, 6): 1460, (188, 6): 1460, (189, 6): 1460, (190, 6): 1460, (191, 6): 1460, (192, 6): 1460, (193, 6): 1460, (194, 6): 1460, (195, 6): 1460, (196, 6): 1460, (197, 6): 1460, (198, 6): 1460, (199, 6): 1460, (0, 7): 1240, (1, 7): 1240, (2, 7): 1240, (3, 7): 1240, (4, 7): 1240, (5, 7): 1240, (6, 7): 1240, (7, 7): 1240, (8, 7): 1240, (9, 7): 1240, (10, 7): 1240, (11, 7): 1240, (12, 7): 1240, (13, 7): 1240, (14, 7): 1240, (15, 7): 1240, (16, 7): 1240, (17, 7): 1240, (18, 7): 1240, (19, 7): 1240, (20, 7): 1240, (21, 7): 1240, (22, 7): 1240, (23, 7): 1240, (24, 7): 1240, (25, 7): 1240, (26, 7): 1240, (27, 7): 1240, (28, 7): 1240, (29, 7): 1240, (30, 7): 1240, (31, 7): 1240, (32, 7): 1240, (33, 7): 1240, (34, 7): 1240, (35, 7): 1240, (36, 7): 1240, (37, 7): 1240, (38, 7): 1240, (39, 7): 1240, (40, 7): 1240, (41, 7): 1240, (42, 7): 1240, (43, 7): 1240, (44, 7): 1240, (45, 7): 1240, (46, 7): 1240, (47, 7): 1240, (48, 7): 1240, (49, 7): 1240, (50, 7): 1240, (51, 7): 1240, (52, 7): 1240, (53, 7): 1240, (54, 7): 1240, (55, 7): 1240, (56, 7): 1240, (57, 7): 1240, (58, 7): 1240, (59, 7): 1240, (60, 7): 1240, (61, 7): 1240, (62, 7): 1240, (63, 7): 1240, (64, 7): 1240, (65, 7): 1240, (66, 7): 1240, (67, 7): 1240, (68, 7): 1240, (69, 7): 1240, (70, 7): 1240, (71, 7): 1240, (72, 7): 1240, (73, 7): 1240, (74, 7): 1240, (75, 7): 1240, (76, 7): 1240, (77, 7): 1240, (78, 7): 1240, (79, 7): 1240, (80, 7): 1240, (81, 7): 1240, (82, 7): 1240, (83, 7): 1240, (84, 7): 1240, (85, 7): 1240, (86, 7): 1240, (87, 7): 1240, (88, 7): 1240, (89, 7): 1240, (90, 7): 1240, (91, 7): 1240, (92, 7): 1240, (93, 7): 1240, (94, 7): 1240, (95, 7): 1240, (96, 7): 1240, (97, 7): 1240, (98, 7): 1240, (99, 7): 1240, (100, 7): 1240, (101, 7): 1240, (102, 7): 1240, (103, 7): 1240, (104, 7): 1240, (105, 7): 1240, (106, 7): 1240, (107, 7): 1240, (108, 7): 1240, (109, 7): 1240, (110, 7): 1240, (111, 7): 1240, (112, 7): 1240, (113, 7): 1240, (114, 7): 1240, (115, 7): 1240, (116, 7): 1240, (117, 7): 1240, (118, 7): 1240, (119, 7): 1240, (120, 7): 1240, (121, 7): 1240, (122, 7): 1240, (123, 7): 1240, (124, 7): 1240, (125, 7): 1240, (126, 7): 1240, (127, 7): 1240, (128, 7): 1240, (129, 7): 1240, (130, 7): 1240, (131, 7): 1240, (132, 7): 1240, (133, 7): 1240, (134, 7): 1240, (135, 7): 1240, (136, 7): 1240, (137, 7): 1240, (138, 7): 1240, (139, 7): 1240, (140, 7): 1240, (141, 7): 1240, (142, 7): 1240, (143, 7): 1240, (144, 7): 1240, (145, 7): 1240, (146, 7): 1240, (147, 7): 1240, (148, 7): 1240, (149, 7): 1240, (150, 7): 1240, (151, 7): 1240, (152, 7): 1240, (153, 7): 1240, (154, 7): 1240, (155, 7): 1240, (156, 7): 1240, (157, 7): 1240, (158, 7): 1240, (159, 7): 1240, (160, 7): 1240, (161, 7): 1240, (162, 7): 1240, (163, 7): 1240, (164, 7): 1240, (165, 7): 1240, (166, 7): 1240, (167, 7): 1240, (168, 7): 1240, (169, 7): 1240, (170, 7): 1240, (171, 7): 1240, (172, 7): 1240, (173, 7): 1240, (174, 7): 1240, (175, 7): 1240, (176, 7): 1240, (177, 7): 1240, (178, 7): 1240, (179, 7): 1240, (180, 7): 1240, (181, 7): 1240, (182, 7): 1240, (183, 7): 1240, (184, 7): 1240, (185, 7): 1240, (186, 7): 1240, (187, 7): 1240, (188, 7): 1240, (189, 7): 1240, (190, 7): 1240, (191, 7): 1240, (192, 7): 1240, (193, 7): 1240, (194, 7): 1240, (195, 7): 1240, (196, 7): 1240, (197, 7): 1240, (198, 7): 1240, (199, 7): 1240, (0, 8): 1660, (1, 8): 1660, (2, 8): 1660, (3, 8): 1660, (4, 8): 1660, (5, 8): 1660, (6, 8): 1660, (7, 8): 1660, (8, 8): 1660, (9, 8): 1660, (10, 8): 1660, (11, 8): 1660, (12, 8): 1660, (13, 8): 1660, (14, 8): 1660, (15, 8): 1660, (16, 8): 1660, (17, 8): 1660, (18, 8): 1660, (19, 8): 1660, (20, 8): 1660, (21, 8): 1660, (22, 8): 1660, (23, 8): 1660, (24, 8): 1660, (25, 8): 1660, (26, 8): 1660, (27, 8): 1660, (28, 8): 1660, (29, 8): 1660, (30, 8): 1660, (31, 8): 1660, (32, 8): 1660, (33, 8): 1660, (34, 8): 1660, (35, 8): 1660, (36, 8): 1660, (37, 8): 1660, (38, 8): 1660, (39, 8): 1660, (40, 8): 1660, (41, 8): 1660, (42, 8): 1660, (43, 8): 1660, (44, 8): 1660, (45, 8): 1660, (46, 8): 1660, (47, 8): 1660, (48, 8): 1660, (49, 8): 1660, (50, 8): 1660, (51, 8): 1660, (52, 8): 1660, (53, 8): 1660, (54, 8): 1660, (55, 8): 1660, (56, 8): 1660, (57, 8): 1660, (58, 8): 1660, (59, 8): 1660, (60, 8): 1660, (61, 8): 1660, (62, 8): 1660, (63, 8): 1660, (64, 8): 1660, (65, 8): 1660, (66, 8): 1660, (67, 8): 1660, (68, 8): 1660, (69, 8): 1660, (70, 8): 1660, (71, 8): 1660, (72, 8): 1660, (73, 8): 1660, (74, 8): 1660, (75, 8): 1660, (76, 8): 1660, (77, 8): 1660, (78, 8): 1660, (79, 8): 1660, (80, 8): 1660, (81, 8): 1660, (82, 8): 1660, (83, 8): 1660, (84, 8): 1660, (85, 8): 1660, (86, 8): 1660, (87, 8): 1660, (88, 8): 1660, (89, 8): 1660, (90, 8): 1660, (91, 8): 1660, (92, 8): 1660, (93, 8): 1660, (94, 8): 1660, (95, 8): 1660, (96, 8): 1660, (97, 8): 1660, (98, 8): 1660, (99, 8): 1660, (100, 8): 1660, (101, 8): 1660, (102, 8): 1660, (103, 8): 1660, (104, 8): 1660, (105, 8): 1660, (106, 8): 1660, (107, 8): 1660, (108, 8): 1660, (109, 8): 1660, (110, 8): 1660, (111, 8): 1660, (112, 8): 1660, (113, 8): 1660, (114, 8): 1660, (115, 8): 1660, (116, 8): 1660, (117, 8): 1660, (118, 8): 1660, (119, 8): 1660, (120, 8): 1660, (121, 8): 1660, (122, 8): 1660, (123, 8): 1660, (124, 8): 1660, (125, 8): 1660, (126, 8): 1660, (127, 8): 1660, (128, 8): 1660, (129, 8): 1660, (130, 8): 1660, (131, 8): 1660, (132, 8): 1660, (133, 8): 1660, (134, 8): 1660, (135, 8): 1660, (136, 8): 1660, (137, 8): 1660, (138, 8): 1660, (139, 8): 1660, (140, 8): 1660, (141, 8): 1660, (142, 8): 1660, (143, 8): 1660, (144, 8): 1660, (145, 8): 1660, (146, 8): 1660, (147, 8): 1660, (148, 8): 1660, (149, 8): 1660, (150, 8): 1660, (151, 8): 1660, (152, 8): 1660, (153, 8): 1660, (154, 8): 1660, (155, 8): 1660, (156, 8): 1660, (157, 8): 1660, (158, 8): 1660, (159, 8): 1660, (160, 8): 1660, (161, 8): 1660, (162, 8): 1660, (163, 8): 1660, (164, 8): 1660, (165, 8): 1660, (166, 8): 1660, (167, 8): 1660, (168, 8): 1660, (169, 8): 1660, (170, 8): 1660, (171, 8): 1660, (172, 8): 1660, (173, 8): 1660, (174, 8): 1660, (175, 8): 1660, (176, 8): 1660, (177, 8): 1660, (178, 8): 1660, (179, 8): 1660, (180, 8): 1660, (181, 8): 1660, (182, 8): 1660, (183, 8): 1660, (184, 8): 1660, (185, 8): 1660, (186, 8): 1660, (187, 8): 1660, (188, 8): 1660, (189, 8): 1660, (190, 8): 1660, (191, 8): 1660, (192, 8): 1660, (193, 8): 1660, (194, 8): 1660, (195, 8): 1660, (196, 8): 1660, (197, 8): 1660, (198, 8): 1660, (199, 8): 1660, (0, 9): 1860, (1, 9): 1860, (2, 9): 1860, (3, 9): 1860, (4, 9): 1860, (5, 9): 1860, (6, 9): 1860, (7, 9): 1860, (8, 9): 1860, (9, 9): 1860, (10, 9): 1860, (11, 9): 1860, (12, 9): 1860, (13, 9): 1860, (14, 9): 1860, (15, 9): 1860, (16, 9): 1860, (17, 9): 1860, (18, 9): 1860, (19, 9): 1860, (20, 9): 1860, (21, 9): 1860, (22, 9): 1860, (23, 9): 1860, (24, 9): 1860, (25, 9): 1860, (26, 9): 1860, (27, 9): 1860, (28, 9): 1860, (29, 9): 1860, (30, 9): 1860, (31, 9): 1860, (32, 9): 1860, (33, 9): 1860, (34, 9): 1860, (35, 9): 1860, (36, 9): 1860, (37, 9): 1860, (38, 9): 1860, (39, 9): 1860, (40, 9): 1860, (41, 9): 1860, (42, 9): 1860, (43, 9): 1860, (44, 9): 1860, (45, 9): 1860, (46, 9): 1860, (47, 9): 1860, (48, 9): 1860, (49, 9): 1860, (50, 9): 1860, (51, 9): 1860, (52, 9): 1860, (53, 9): 1860, (54, 9): 1860, (55, 9): 1860, (56, 9): 1860, (57, 9): 1860, (58, 9): 1860, (59, 9): 1860, (60, 9): 1860, (61, 9): 1860, (62, 9): 1860, (63, 9): 1860, (64, 9): 1860, (65, 9): 1860, (66, 9): 1860, (67, 9): 1860, (68, 9): 1860, (69, 9): 1860, (70, 9): 1860, (71, 9): 1860, (72, 9): 1860, (73, 9): 1860, (74, 9): 1860, (75, 9): 1860, (76, 9): 1860, (77, 9): 1860, (78, 9): 1860, (79, 9): 1860, (80, 9): 1860, (81, 9): 1860, (82, 9): 1860, (83, 9): 1860, (84, 9): 1860, (85, 9): 1860, (86, 9): 1860, (87, 9): 1860, (88, 9): 1860, (89, 9): 1860, (90, 9): 1860, (91, 9): 1860, (92, 9): 1860, (93, 9): 1860, (94, 9): 1860, (95, 9): 1860, (96, 9): 1860, (97, 9): 1860, (98, 9): 1860, (99, 9): 1860, (100, 9): 1860, (101, 9): 1860, (102, 9): 1860, (103, 9): 1860, (104, 9): 1860, (105, 9): 1860, (106, 9): 1860, (107, 9): 1860, (108, 9): 1860, (109, 9): 1860, (110, 9): 1860, (111, 9): 1860, (112, 9): 1860, (113, 9): 1860, (114, 9): 1860, (115, 9): 1860, (116, 9): 1860, (117, 9): 1860, (118, 9): 1860, (119, 9): 1860, (120, 9): 1860, (121, 9): 1860, (122, 9): 1860, (123, 9): 1860, (124, 9): 1860, (125, 9): 1860, (126, 9): 1860, (127, 9): 1860, (128, 9): 1860, (129, 9): 1860, (130, 9): 1860, (131, 9): 1860, (132, 9): 1860, (133, 9): 1860, (134, 9): 1860, (135, 9): 1860, (136, 9): 1860, (137, 9): 1860, (138, 9): 1860, (139, 9): 1860, (140, 9): 1860, (141, 9): 1860, (142, 9): 1860, (143, 9): 1860, (144, 9): 1860, (145, 9): 1860, (146, 9): 1860, (147, 9): 1860, (148, 9): 1860, (149, 9): 1860, (150, 9): 1860, (151, 9): 1860, (152, 9): 1860, (153, 9): 1860, (154, 9): 1860, (155, 9): 1860, (156, 9): 1860, (157, 9): 1860, (158, 9): 1860, (159, 9): 1860, (160, 9): 1860, (161, 9): 1860, (162, 9): 1860, (163, 9): 1860, (164, 9): 1860, (165, 9): 1860, (166, 9): 1860, (167, 9): 1860, (168, 9): 1860, (169, 9): 1860, (170, 9): 1860, (171, 9): 1860, (172, 9): 1860, (173, 9): 1860, (174, 9): 1860, (175, 9): 1860, (176, 9): 1860, (177, 9): 1860, (178, 9): 1860, (179, 9): 1860, (180, 9): 1860, (181, 9): 1860, (182, 9): 1860, (183, 9): 1860, (184, 9): 1860, (185, 9): 1860, (186, 9): 1860, (187, 9): 1860, (188, 9): 1860, (189, 9): 1860, (190, 9): 1860, (191, 9): 1860, (192, 9): 1860, (193, 9): 1860, (194, 9): 1860, (195, 9): 1860, (196, 9): 1860, (197, 9): 1860, (198, 9): 1860, (199, 9): 1860}\n"
          ]
        }
      ]
    },
    {
      "cell_type": "code",
      "source": [
        "# Defining Objective Function\n",
        "m3.setObjective(X2.prod(costDict3))\n",
        "\n",
        "for c in range(200):\n",
        "  for d in range(250):\n",
        "    m3.add"
      ],
      "metadata": {
        "id": "bTuQJvkTIfR0"
      },
      "execution_count": null,
      "outputs": []
    },
    {
      "cell_type": "code",
      "source": [
        "# Defining Objective Function\n",
        "m3.setObjective(X2.prod(costDict3))\n",
        "\n",
        "FirstYConstraint = LinExpr()\n",
        "SecondYConstraint = LinExpr()\n",
        "\n",
        "for c in range(200):\n",
        "  for d in range(250):\n",
        "    FirstYConstraint.add(X2.prod(capacityDict3, c, '*'))\n",
        "    SecondYConstraint.add(X2.prod(capacityDict3, c, '*'))\n",
        "    FirstYConstraint.add(M * Y[c, d])\n",
        "    SecondYConstraint.add(M * Y[c, d])\n",
        "    m3.addConstr(FirstYConstraint, GRB.LESS_EQUAL, M + stochasticDemands[c][d])\n",
        "    m3.addConstr(SecondYConstraint, GRB)\n",
        "\n",
        "# Generating Constraints\n",
        "#m3.addConstrs(X2.prod(capacityDict3, c, '*') + M * Y[c, d] <= M + stochasticDemands[c][d] for c in range(200) for d in range(250))\n",
        "#m3.addConstrs(M * Y[c, d] + X2.prod(capacityDict3, c, '*') >= stochasticDemands[c][d] for c in range(200) for d in range(250))\n",
        "m3.addConstr(Y.sum() / 50000 < 0.19)\n",
        "m3.addConstrs(Y.sum(c, '*') / 250 <= 0.5 for c in range(200))\n",
        "m3.addConstr(X2.prod(qty1Dict3) <= 0)\n",
        "m3.addConstr(X2.prod(qty2Dict3) <= 0)\n",
        "m3.addConstrs(X2.prod(lengthDict3, c, '*') <= lengthRequirement[c] for c in range(200))\n",
        "m3.addConstrs(X2.sum(c, '*') == 1 for c in range(200))\n",
        "\n",
        "m3.optimize()\n",
        "m3.dispose()"
      ],
      "metadata": {
        "colab": {
          "base_uri": "https://localhost:8080/",
          "height": 315
        },
        "id": "D8Gn_GcE7fdn",
        "outputId": "194c5542-01ed-4c9e-a881-0c9e35167878"
      },
      "execution_count": null,
      "outputs": [
        {
          "output_type": "stream",
          "name": "stderr",
          "text": [
            "<ipython-input-7-019273bacdc6>:13: DeprecationWarning: Deprecated, pass a TempConstr or use Model.addLConstr\n",
            "  m3.addConstr(FirstYConstraint, GRB.LESS_EQUAL, M + stochasticDemands[c][d])\n"
          ]
        },
        {
          "output_type": "error",
          "ename": "GurobiError",
          "evalue": "Invalid argument to Model.addConstr",
          "traceback": [
            "\u001b[0;31m---------------------------------------------------------------------------\u001b[0m",
            "\u001b[0;31mGurobiError\u001b[0m                               Traceback (most recent call last)",
            "\u001b[0;32m<ipython-input-7-019273bacdc6>\u001b[0m in \u001b[0;36m<cell line: 7>\u001b[0;34m()\u001b[0m\n\u001b[1;32m     11\u001b[0m     \u001b[0mFirstYConstraint\u001b[0m\u001b[0;34m.\u001b[0m\u001b[0madd\u001b[0m\u001b[0;34m(\u001b[0m\u001b[0mM\u001b[0m \u001b[0;34m*\u001b[0m \u001b[0mY\u001b[0m\u001b[0;34m[\u001b[0m\u001b[0mc\u001b[0m\u001b[0;34m,\u001b[0m \u001b[0md\u001b[0m\u001b[0;34m]\u001b[0m\u001b[0;34m)\u001b[0m\u001b[0;34m\u001b[0m\u001b[0;34m\u001b[0m\u001b[0m\n\u001b[1;32m     12\u001b[0m     \u001b[0mSecondYConstraint\u001b[0m\u001b[0;34m.\u001b[0m\u001b[0madd\u001b[0m\u001b[0;34m(\u001b[0m\u001b[0mM\u001b[0m \u001b[0;34m*\u001b[0m \u001b[0mY\u001b[0m\u001b[0;34m[\u001b[0m\u001b[0mc\u001b[0m\u001b[0;34m,\u001b[0m \u001b[0md\u001b[0m\u001b[0;34m]\u001b[0m\u001b[0;34m)\u001b[0m\u001b[0;34m\u001b[0m\u001b[0;34m\u001b[0m\u001b[0m\n\u001b[0;32m---> 13\u001b[0;31m     \u001b[0mm3\u001b[0m\u001b[0;34m.\u001b[0m\u001b[0maddConstr\u001b[0m\u001b[0;34m(\u001b[0m\u001b[0mFirstYConstraint\u001b[0m\u001b[0;34m,\u001b[0m \u001b[0mGRB\u001b[0m\u001b[0;34m.\u001b[0m\u001b[0mLESS_EQUAL\u001b[0m\u001b[0;34m,\u001b[0m \u001b[0mM\u001b[0m \u001b[0;34m+\u001b[0m \u001b[0mstochasticDemands\u001b[0m\u001b[0;34m[\u001b[0m\u001b[0mc\u001b[0m\u001b[0;34m]\u001b[0m\u001b[0;34m[\u001b[0m\u001b[0md\u001b[0m\u001b[0;34m]\u001b[0m\u001b[0;34m)\u001b[0m\u001b[0;34m\u001b[0m\u001b[0;34m\u001b[0m\u001b[0m\n\u001b[0m\u001b[1;32m     14\u001b[0m     \u001b[0mm3\u001b[0m\u001b[0;34m.\u001b[0m\u001b[0maddConstr\u001b[0m\u001b[0;34m(\u001b[0m\u001b[0mSecondYConstraint\u001b[0m\u001b[0;34m,\u001b[0m \u001b[0mGRB\u001b[0m\u001b[0;34m)\u001b[0m\u001b[0;34m\u001b[0m\u001b[0;34m\u001b[0m\u001b[0m\n\u001b[1;32m     15\u001b[0m \u001b[0;34m\u001b[0m\u001b[0m\n",
            "\u001b[0;32msrc/gurobipy/model.pxi\u001b[0m in \u001b[0;36mgurobipy.Model.addConstr\u001b[0;34m()\u001b[0m\n",
            "\u001b[0;32msrc/gurobipy/model.pxi\u001b[0m in \u001b[0;36mgurobipy.Model.__addConstr\u001b[0;34m()\u001b[0m\n",
            "\u001b[0;31mGurobiError\u001b[0m: Invalid argument to Model.addConstr"
          ]
        }
      ]
    }
  ]
}