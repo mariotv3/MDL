{
  "nbformat": 4,
  "nbformat_minor": 0,
  "metadata": {
    "colab": {
      "provenance": [],
      "include_colab_link": true
    },
    "kernelspec": {
      "name": "python3",
      "display_name": "Python 3"
    },
    "language_info": {
      "name": "python"
    }
  },
  "cells": [
    {
      "cell_type": "markdown",
      "metadata": {
        "id": "view-in-github",
        "colab_type": "text"
      },
      "source": [
        "<a href=\"https://colab.research.google.com/github/mariotv3/MDL/blob/main/IntroToSeminarCases.ipynb\" target=\"_parent\"><img src=\"https://colab.research.google.com/assets/colab-badge.svg\" alt=\"Open In Colab\"/></a>"
      ]
    },
    {
      "cell_type": "code",
      "execution_count": null,
      "metadata": {
        "id": "BQXQTIQiw3-f"
      },
      "outputs": [],
      "source": [
        "!python -m pip install gurobipy"
      ]
    },
    {
      "cell_type": "markdown",
      "source": [
        "**Code Case 1 Logistics - Team Q1.**\n",
        "\n",
        "Paulo Andrés de Souza Miranda, Mario Tejera Vicente, Tomás Gutiérrez Morales, Max Viertel Serrano"
      ],
      "metadata": {
        "id": "k3xmAPEGapYr"
      }
    },
    {
      "cell_type": "code",
      "source": [
        "import gurobipy as gp\n",
        "from gurobipy import *\n",
        "import pandas as pd\n",
        "import numpy as np\n",
        "import scipy.stats as sc\n",
        "from scipy.stats import norm\n",
        "import matplotlib.pyplot as plt\n",
        "import seaborn as sns"
      ],
      "metadata": {
        "id": "1rfgVTIFyUzR"
      },
      "execution_count": null,
      "outputs": []
    },
    {
      "cell_type": "code",
      "source": [
        "# importing values from excel file\n",
        "df = pd.read_excel('Railway services-2024.xlsx')\n",
        "df = df.iloc[:-3]\n",
        "indexes = df['Trip']\n",
        "demand = df['Demand(μ)']\n",
        "line = df['Line']\n",
        "demand_stdDev = df['Demand(σ)']\n",
        "arrivalTime = df['Arrival Time']\n",
        "departureTime = df['Departure Time']\n",
        "arrivalStation = df['To']\n",
        "departureStation = df['From']\n",
        "\n",
        "#licence to run larger models on colab\n",
        "params = {\n",
        "\"WLSACCESSID\": '9f6bda1d-2c0b-49c7-96a8-f172b568e9e4',\n",
        "\"WLSSECRET\": '3db7e79a-7091-4079-9dc3-c9c1382b1c4e',\n",
        "\"LICENSEID\": 2498504,\n",
        "}\n",
        "env = gp.Env(params=params)"
      ],
      "metadata": {
        "id": "aVapy8iL-XoG"
      },
      "execution_count": null,
      "outputs": []
    },
    {
      "cell_type": "markdown",
      "source": [
        "**Exercise** 3 - Formulation 1 (Cross-sections + train types)"
      ],
      "metadata": {
        "id": "BPxOOp0WzuK7"
      }
    },
    {
      "cell_type": "code",
      "source": [
        "# create model\n",
        "m1 = gp.Model(\"first formulation ex 3\")\n",
        "\n",
        "# create variables\n",
        "N = m1.addVars(2, 200, vtype=GRB.INTEGER) #N_{u,c} variables (2 types & 200 cross-sections) (0 = OC & 1 = OH)\n",
        "\n",
        "# create coefficients\n",
        "lengthRequirement = [200 if x == 400 else 300 for x in line]\n",
        "costCoefficients = [260000, 210000]\n",
        "costDict = {}\n",
        "capacityCoefficients = [620, 420]\n",
        "capacityDict = {}\n",
        "lengthCoefficients = [100, 70]\n",
        "lengthDict = {}\n",
        "qty1Coefficients = [1, -1.25]\n",
        "qty1Dict = {}\n",
        "qty2Coefficients = [-1.25, 1]\n",
        "qty2Dict = {}\n",
        "\n",
        "for u in range(2):\n",
        "  for c in range(200):\n",
        "    costDict[(u, c)] = costCoefficients[u]\n",
        "    capacityDict[(u, c)] = capacityCoefficients[u]\n",
        "    lengthDict[(u, c)] = lengthCoefficients[u]\n",
        "    qty1Dict[(u, c)] = qty1Coefficients[u]\n",
        "    qty2Dict[(u, c)] = qty2Coefficients[u]"
      ],
      "metadata": {
        "id": "NahCKf9vyc8K"
      },
      "execution_count": null,
      "outputs": []
    },
    {
      "cell_type": "code",
      "source": [
        "# Defining Objective Function\n",
        "m1.setObjective(N.prod(costDict))\n",
        "\n",
        "# Generating Constraints\n",
        "m1.addConstrs(N.prod(capacityDict, '*', c) >= demand[c]  for c in range(200))\n",
        "m1.addConstr(N.prod(qty1Dict) <= 0)\n",
        "m1.addConstr(N.prod(qty2Dict) <= 0)\n",
        "m1.addConstrs(N.prod(lengthDict, '*', c) <= lengthRequirement[c] for c in range(200))\n",
        "m1.addConstrs(N[u, c] >= 0 for u in range(2) for c in range(200))\n",
        "\n",
        "m1.optimize()"
      ],
      "metadata": {
        "id": "pH1LSB8QUnYN"
      },
      "execution_count": null,
      "outputs": []
    },
    {
      "cell_type": "code",
      "source": [
        "solution = N\n",
        "OC = 0\n",
        "OH = 0\n",
        "for index in solution.keys():\n",
        "  if index[0] == 0 and solution[index].X != 0:\n",
        "    OC += solution[index].X\n",
        "  if index[0] == 1 and solution[index].X != 0:\n",
        "    OH += solution[index].X\n",
        "\n",
        "\n",
        "print(OC)\n",
        "print(OH)"
      ],
      "metadata": {
        "id": "tK2Zdb9w9gsJ"
      },
      "execution_count": null,
      "outputs": []
    },
    {
      "cell_type": "code",
      "source": [
        "# Solve LP relaxation\n",
        "r1 = m1.relax()\n",
        "r1.optimize()"
      ],
      "metadata": {
        "id": "dnjgyqcbBEhs"
      },
      "execution_count": null,
      "outputs": []
    },
    {
      "cell_type": "markdown",
      "source": [
        "Exercise 3 - Formulation 2 (Compositions + Cross-sections)"
      ],
      "metadata": {
        "id": "3SERwJiT2pa4"
      }
    },
    {
      "cell_type": "code",
      "source": [
        "# Create set of compositions - denoted as a pair of values (OC, OH), where OC is the number of OC rolling stock units and OH is the number of OH rolling stock units\n",
        "compositions = []\n",
        "minDemand = min(demand)\n",
        "\n",
        "for OC in range(4):\n",
        "  for OH in range(5):\n",
        "    if 620 * OC + 420 * OH >= min(demand) and 100 * OC + 70 * OH <= 300:\n",
        "      compositions.append((OC, OH))\n",
        "\n",
        "print(compositions)"
      ],
      "metadata": {
        "id": "L7B6JAjT29L1"
      },
      "execution_count": null,
      "outputs": []
    },
    {
      "cell_type": "code",
      "source": [
        "# Create model\n",
        "m2 = gp.Model(\"second formulation ex 3\")\n",
        "\n",
        "# create variables\n",
        "X = m2.addVars(200, 10, vtype=GRB.BINARY) #X_{c,p} variables (200 cross-sections & 10 compositions)\n",
        "\n",
        "# create coefficients\n",
        "lengthRequirement = [200 if x == 400 else 300 for x in line]\n",
        "costCoefficients = [260000, 210000]\n",
        "costDict2 = {}\n",
        "capacityCoefficients = [620, 420]\n",
        "capacityDict2 = {}\n",
        "lengthCoefficients = [100, 70]\n",
        "lengthDict2 = {}\n",
        "qty1Coefficients = [1, -1.25]\n",
        "qty1Dict2 = {}\n",
        "qty2Coefficients = [-1.25, 1]\n",
        "qty2Dict2 = {}\n",
        "\n",
        "for composition in range(len(compositions)):\n",
        "  for c in range(200):\n",
        "    costDict2[(c, composition)] = costCoefficients[0] * compositions[composition][0] + costCoefficients[1] * compositions[composition][1]\n",
        "    capacityDict2[(c, composition)] = capacityCoefficients[0] * compositions[composition][0] + capacityCoefficients[1] * compositions[composition][1]\n",
        "    lengthDict2[(c, composition)] = lengthCoefficients[0] * compositions[composition][0] + lengthCoefficients[1] * compositions[composition][1]\n",
        "    qty1Dict2[(c, composition)] = qty1Coefficients[0] * compositions[composition][0] + qty1Coefficients[1] * compositions[composition][1]\n",
        "    qty2Dict2[(c, composition)] = qty2Coefficients[0] * compositions[composition][0] + qty2Coefficients[1] * compositions[composition][1]"
      ],
      "metadata": {
        "id": "Ie7qg-D-8nrn"
      },
      "execution_count": null,
      "outputs": []
    },
    {
      "cell_type": "code",
      "source": [
        "# Defining Objective Function\n",
        "m2.setObjective(X.prod(costDict2))\n",
        "\n",
        "# Generating Constraints\n",
        "m2.addConstrs(X.prod(capacityDict2, c, '*') >= demand[c]  for c in range(200))\n",
        "m2.addConstr(X.prod(qty1Dict2) <= 0)\n",
        "m2.addConstr(X.prod(qty2Dict2) <= 0)\n",
        "m2.addConstrs(X.prod(lengthDict2, c, '*') <= lengthRequirement[c] for c in range(200))\n",
        "m2.addConstrs(X.sum(c, '*') == 1 for c in range(200))\n",
        "\n",
        "m2.optimize()"
      ],
      "metadata": {
        "id": "fIYCTKRWBWmZ"
      },
      "execution_count": null,
      "outputs": []
    },
    {
      "cell_type": "code",
      "source": [
        "solution = m2.getVars()\n",
        "solution = solution[:2000]\n",
        "shortSolutions = []\n",
        "compositionsSolution = [0 for x in range(10)]\n",
        "typesSolution = [0 for x in range(2)] # (OC, OH)\n",
        "\n",
        "for variable in solution:\n",
        "  if variable.X >= 0.8:\n",
        "    shortSolutions.append(variable)\n",
        "\n",
        "for variable in shortSolutions:\n",
        "  compositionsSolution[variable.index % 10] += 1\n",
        "\n",
        "for c in range(10):\n",
        "  typesSolution[0] += compositions[c][0] * compositionsSolution[c]\n",
        "  typesSolution[1] += compositions[c][1] * compositionsSolution[c]\n",
        "\n",
        "print(typesSolution)"
      ],
      "metadata": {
        "id": "6i4SdVctuVh0"
      },
      "execution_count": null,
      "outputs": []
    },
    {
      "cell_type": "code",
      "source": [
        "# Solve LP relaxation\n",
        "r2 = m2.relax()\n",
        "r2.optimize()"
      ],
      "metadata": {
        "id": "xedkr8qJA6gg"
      },
      "execution_count": null,
      "outputs": []
    },
    {
      "cell_type": "markdown",
      "source": [
        "**Exercise** 4 - Stochastic Demand"
      ],
      "metadata": {
        "id": "BLaspTpRATi0"
      }
    },
    {
      "cell_type": "code",
      "source": [
        "#Assignment 4 third first trial\n",
        "compositions = []\n",
        "indexes = []\n",
        "minDemand = min(demand)\n",
        "\n",
        "for OC in range(4): #indexes 2, 3, 6, 8, 9\n",
        "  for OH in range(5):\n",
        "    if 620 * OC + 420 * OH >= min(demand) and 100 * OC + 70 * OH <= 300:\n",
        "      compositions.append((OC, OH))\n",
        "\n",
        "for c in range(200):\n",
        "  for p in range(10):\n",
        "      if line[c] != 400 or p in [0, 1, 4, 5, 7]:\n",
        "        indexes.append((c,p))\n",
        "\n",
        "costCoefficients = [260000, 210000]\n",
        "costDict2 = {}\n",
        "capacityCoefficients = [620, 420]\n",
        "capacityDict2 = {}\n",
        "qty1Coefficients = [1, -1.25]\n",
        "qty1Dict2 = {}\n",
        "qty2Coefficients = [-1.25, 1]\n",
        "qty2Dict2 = {}\n",
        "\n",
        "for index in range(len(indexes)):\n",
        "  c = indexes[index][0]\n",
        "  composition= indexes[index][1]\n",
        "  costDict2[(c, composition)] = costCoefficients[0] * compositions[composition][0] + costCoefficients[1] * compositions[composition][1]\n",
        "  capacityDict2[(c, composition)] = capacityCoefficients[0] * compositions[composition][0] + capacityCoefficients[1] * compositions[composition][1]\n",
        "  qty1Dict2[(c, composition)] = qty1Coefficients[0] * compositions[composition][0] + qty1Coefficients[1] * compositions[composition][1]\n",
        "  qty2Dict2[(c, composition)] = qty2Coefficients[0] * compositions[composition][0] + qty2Coefficients[1] * compositions[composition][1]\n",
        "\n",
        "Probability = {}\n",
        "\n",
        "for index in indexes:\n",
        "  mean = demand[index[0]]\n",
        "  stdv = demand_stdDev[index[0]]\n",
        "  Probability[index] = norm.cdf(capacityDict2[index], mean, stdv)"
      ],
      "metadata": {
        "id": "adQR6Ll2_SBg"
      },
      "execution_count": null,
      "outputs": []
    },
    {
      "cell_type": "code",
      "source": [
        "# Create model\n",
        "m3 = gp.Model(\"Assignment 4\")\n",
        "\n",
        "#variables\n",
        "X3 = m3.addVars(indexes, vtype = GRB.BINARY, name = \"X3\")"
      ],
      "metadata": {
        "id": "h_Zd46K-DL9Y"
      },
      "execution_count": null,
      "outputs": []
    },
    {
      "cell_type": "code",
      "source": [
        "# Defining Objective Function\n",
        "m3.setObjective(X3.prod(costDict2), GRB.MINIMIZE)\n",
        "\n",
        "# Generating Constraints\n",
        "m3.addConstr(X3.prod(Probability) >= 162)\n",
        "m3.addConstrs(X3.prod(Probability, c, \"*\") >= 0.5 for c in range(200))\n",
        "m3.addConstr(X3.prod(qty1Dict2) <= 0)\n",
        "m3.addConstr(X3.prod(qty2Dict2) <= 0)\n",
        "m3.addConstrs(X3.sum(c, '*') == 1 for c in range(200))\n",
        "\n",
        "m3.optimize()"
      ],
      "metadata": {
        "id": "tb_nYLYyIA_f"
      },
      "execution_count": null,
      "outputs": []
    },
    {
      "cell_type": "code",
      "source": [
        "#rolling stocks\n",
        "solution = X3\n",
        "OCUsed = 0\n",
        "OHUsed = 0\n",
        "\n",
        "print(solution)\n",
        "\n",
        "for index in solution.keys():\n",
        "  if solution[index].X == 1:\n",
        "    OCUsed += compositions[index[1]][0]\n",
        "    OHUsed += compositions[index[1]][1]\n",
        "\n",
        "print(OCUsed)\n",
        "print(OHUsed)"
      ],
      "metadata": {
        "id": "WGlJUkPFRdJx"
      },
      "execution_count": null,
      "outputs": []
    },
    {
      "cell_type": "markdown",
      "source": [
        "**Exercise** 5 - varying demand"
      ],
      "metadata": {
        "id": "6-LeR9Aog_d-"
      }
    },
    {
      "cell_type": "code",
      "source": [
        "#Assignment 5\n",
        "compositions = []\n",
        "indexes = []\n",
        "minDemand = min(demand)\n",
        "\n",
        "for OC in range(4): #indexes 2, 3, 6, 8, 9\n",
        "  for OH in range(5):\n",
        "    if 620 * OC + 420 * OH >= min(demand) and 100 * OC + 70 * OH <= 300:\n",
        "      compositions.append((OC, OH))\n",
        "\n",
        "print(compositions)\n",
        "\n",
        "for c in range(200):\n",
        "  for p in range(10):\n",
        "      if line[c] != 400 or p in [0, 1, 4, 5, 7]:\n",
        "        indexes.append((c,p))\n",
        "\n",
        "costCoefficients = [260000, 210000]\n",
        "costDict2 = {}\n",
        "capacityCoefficients = [620, 420]\n",
        "capacityDict2 = {}\n",
        "qty1Coefficients = [1, -1.25]\n",
        "OCunits = {}\n",
        "qty2Coefficients = [-1.25, 1]\n",
        "OHunits = {}\n",
        "\n",
        "for index in range(len(indexes)):\n",
        "  c = indexes[index][0]\n",
        "  composition = indexes[index][1]\n",
        "  costDict2[(c, composition)] = costCoefficients[0] * compositions[composition][0] + costCoefficients[1] * compositions[composition][1]\n",
        "  capacityDict2[(c, composition)] = capacityCoefficients[0] * compositions[composition][0] + capacityCoefficients[1] * compositions[composition][1]\n",
        "  OCunits[(c, composition)] = compositions[composition][0]\n",
        "  OHunits[(c, composition)] = compositions[composition][1]\n",
        "\n",
        "ProbabilityH = {}\n",
        "ProbabilityL = {}\n",
        "\n",
        "for index in indexes:\n",
        "  mean = demand[index[0]]\n",
        "  stdv = demand_stdDev[index[0]]\n",
        "  ProbabilityH[index] = norm.cdf(capacityDict2[index], mean * 1.15, stdv)\n",
        "  ProbabilityL[index] = norm.cdf(capacityDict2[index], mean * 0.9, stdv)\n",
        "\n",
        "print(ProbabilityH )"
      ],
      "metadata": {
        "id": "o9-7IVo1Q5PB"
      },
      "execution_count": null,
      "outputs": []
    },
    {
      "cell_type": "code",
      "source": [
        "# Create model\n",
        "m4 = gp.Model(\"Assignment 5\", env = env)\n",
        "\n",
        "#variables\n",
        "XH = m4.addVars(indexes, vtype = GRB.BINARY, name = \"XH\")\n",
        "XL = m4.addVars(indexes, vtype = GRB.BINARY, name = \"XL\")\n",
        "\n",
        "XBench = m4.addVars(indexes, vtype = GRB.BINARY, name = \"XBench\")"
      ],
      "metadata": {
        "id": "O332KoHmT2cM"
      },
      "execution_count": null,
      "outputs": []
    },
    {
      "cell_type": "code",
      "source": [
        "#Benchmark weighted average\n",
        "# Defining  Objective Function\n",
        "m4.setObjective(0.4 * XBench.prod(ProbabilityH) + 0.6 * XBench.prod(ProbabilityL), GRB.MAXIMIZE)\n",
        "\n",
        "#Generating Constraints\n",
        "m4.addConstr(XBench.prod(OCunits) == OCUsed)\n",
        "m4.addConstr(XBench.prod(OHunits) == OHUsed)\n",
        "m4.addConstrs(XBench.sum(c, '*') == 1 for c in range(200))\n",
        "\n",
        "m4.optimize()"
      ],
      "metadata": {
        "id": "NC_xiixEvGXA"
      },
      "execution_count": null,
      "outputs": []
    },
    {
      "cell_type": "code",
      "source": [
        "solution = XBench\n",
        "\n",
        "objValL = 0\n",
        "objValH = 0\n",
        "for index in solution.keys():\n",
        "  if solution[index].X == 1:\n",
        "    objValH += ProbabilityH[index]\n",
        "    objValL += ProbabilityL[index]\n",
        "print(objValH)\n",
        "print(objValL)"
      ],
      "metadata": {
        "id": "SCxLktbQyebI"
      },
      "execution_count": null,
      "outputs": []
    },
    {
      "cell_type": "code",
      "source": [
        "# actual model high demand\n",
        "# Defining Objective Function\n",
        "m4.setObjective(XH.prod(ProbabilityH), GRB.MAXIMIZE)\n",
        "\n",
        "# Generating Constraints\n",
        "m4.addConstr(XL.prod(OCunits) <= OCUsed)\n",
        "m4.addConstr(XH.prod(OCunits) <= OCUsed)\n",
        "m4.addConstr(XL.prod(OHunits) <= OHUsed)\n",
        "m4.addConstr(XH.prod(OHunits) <= OHUsed)\n",
        "m4.addConstrs(XH.sum(c, '*') == 1 for c in range(200))\n",
        "m4.addConstrs(XL.sum(c, '*') == 1 for c in range(200))\n",
        "\n",
        "m4.optimize()"
      ],
      "metadata": {
        "id": "vuI4f5BvT816"
      },
      "execution_count": null,
      "outputs": []
    },
    {
      "cell_type": "code",
      "source": [
        "# actual model low demand\n",
        "# Defining Objective Function\n",
        "m4.setObjective(XL.prod(ProbabilityL), GRB.MAXIMIZE)\n",
        "\n",
        "# Generating Constraints\n",
        "m4.addConstr(XL.prod(OCunits) <= OCUsed)\n",
        "m4.addConstr(XH.prod(OCunits) <= OCUsed)\n",
        "m4.addConstr(XL.prod(OHunits) <= OHUsed)\n",
        "m4.addConstr(XH.prod(OHunits) <= OHUsed)\n",
        "m4.addConstrs(XH.sum(c, '*') == 1 for c in range(200))\n",
        "m4.addConstrs(XL.sum(c, '*') == 1 for c in range(200))\n",
        "\n",
        "m4.optimize()"
      ],
      "metadata": {
        "id": "CMGmsZc_uTo8"
      },
      "execution_count": null,
      "outputs": []
    },
    {
      "cell_type": "code",
      "source": [
        "#actual model weighted average\n",
        "# Defining Objective Function\n",
        "m4.setObjective(0.4 * XH.prod(ProbabilityH) + 0.6 * XL.prod(ProbabilityL), GRB.MAXIMIZE)\n",
        "\n",
        "# Generating Constraints\n",
        "m4.addConstr(XL.prod(OCunits) <= OCUsed)\n",
        "m4.addConstr(XH.prod(OCunits) <= OCUsed)\n",
        "m4.addConstr(XL.prod(OHunits) <= OHUsed)\n",
        "m4.addConstr(XH.prod(OHunits) <= OHUsed)\n",
        "m4.addConstrs(XH.sum(c, '*') == 1 for c in range(200))\n",
        "m4.addConstrs(XL.sum(c, '*') == 1 for c in range(200))\n",
        "\n",
        "m4.optimize()"
      ],
      "metadata": {
        "id": "MBSrx428uUiL"
      },
      "execution_count": null,
      "outputs": []
    },
    {
      "cell_type": "code",
      "source": [
        "#rolling stocks\n",
        "solutionL = XL\n",
        "solutionH = XH\n",
        "solutionBench = XBench\n",
        "OCUsedL = 0\n",
        "OHUsedL = 0\n",
        "OCUsedH = 0\n",
        "OHUsedH = 0\n",
        "OCUsedBench = 0\n",
        "OHUsedBench = 0\n",
        "\n",
        "for index in solutionBench.keys():\n",
        "  if solutionL[index].X == 1:\n",
        "    OCUsedL += compositions[index[1]][0]\n",
        "    OHUsedL += compositions[index[1]][1]\n",
        "  if solutionH[index].X == 1:\n",
        "    OCUsedH += compositions[index[1]][0]\n",
        "    OHUsedH += compositions[index[1]][1]\n",
        "  if solutionBench[index].X == 1:\n",
        "    OCUsedBench += compositions[index[1]][0]\n",
        "    OHUsedBench += compositions[index[1]][1]\n",
        "\n",
        "print(OCUsedL)\n",
        "print(OHUsedL)\n",
        "print(OCUsedH)\n",
        "print(OHUsedH)\n",
        "print(OCUsedBench)\n",
        "print(OHUsedBench)"
      ],
      "metadata": {
        "id": "Z5pwTC3IcqHt"
      },
      "execution_count": null,
      "outputs": []
    },
    {
      "cell_type": "code",
      "source": [
        "initial_value_average = 161\n",
        "final_value_average = 166\n",
        "initial_value_H = 148\n",
        "initial_value_L = 170\n",
        "final_value_H = 151\n",
        "final_value_L = 176\n",
        "\n",
        "improvement_avg = ((final_value_average - initial_value_average) / initial_value_average) * 100\n",
        "improvement_H = ((final_value_H - initial_value_H) / initial_value_H) * 100\n",
        "improvement_L = ((final_value_L - initial_value_L) / initial_value_L) * 100\n",
        "\n",
        "print(\"The improvement over the bench mark is on average:\", improvement_avg, \"%\")\n",
        "print(\"The improvement over the bench mark is on high demand days:\", improvement_H, \"%\")\n",
        "print(\"The improvement over the bench mark is on low demand days:\", improvement_L, \"%\")"
      ],
      "metadata": {
        "id": "oxNFRD6i8FsK"
      },
      "execution_count": null,
      "outputs": []
    },
    {
      "cell_type": "markdown",
      "source": [
        "**Extension 1: Sensitivity**"
      ],
      "metadata": {
        "id": "vc5D97_yPF11"
      }
    },
    {
      "cell_type": "code",
      "source": [
        "#Extension1: sensitivity analysis\n",
        "compositions = []\n",
        "indexes = []\n",
        "minDemand = min(demand)\n",
        "solMat = np.zeros((5, 5))\n",
        "\n",
        "for OC in range(4): #indexes 2, 3, 6, 8, 9\n",
        "  for OH in range(5):\n",
        "    if 620 * OC + 420 * OH >= min(demand) and 100 * OC + 70 * OH <= 300:\n",
        "      compositions.append((OC, OH))\n",
        "\n",
        "print(compositions)\n",
        "\n",
        "for c in range(200):\n",
        "  for p in range(10):\n",
        "      if line[c] != 400 or p in [0, 1, 4, 5, 7]:\n",
        "        indexes.append((c,p))\n",
        "\n",
        "costCoefficients = [260000, 210000]\n",
        "costDict2 = {}\n",
        "capacityCoefficients = [620, 420]\n",
        "capacityDict2 = {}\n",
        "qty1Coefficients = [1, -1.25]\n",
        "OCunits = {}\n",
        "qty2Coefficients = [-1.25, 1]\n",
        "OHunits = {}\n",
        "\n",
        "for index in range(len(indexes)):\n",
        "  c = indexes[index][0]\n",
        "  composition= indexes[index][1]\n",
        "  costDict2[(c, composition)] = costCoefficients[0] * compositions[composition][0] + costCoefficients[1] * compositions[composition][1]\n",
        "  capacityDict2[(c, composition)] = capacityCoefficients[0] * compositions[composition][0] + capacityCoefficients[1] * compositions[composition][1]\n",
        "  OCunits[(c, composition)] = compositions[composition][0]\n",
        "  OHunits[(c, composition)] = compositions[composition][1]\n",
        "\n",
        "listOfProbH = [0 for c in range(5)]\n",
        "listOfProbL = [0 for c in range(5)]\n",
        "highProb = [1.09, 1.12, 1.15, 1.18, 1.21]\n",
        "lowProb = [0.86, 0.88, 0.9, 0.92, 0.94]\n",
        "for h in range(5):\n",
        "  ProbabilityH = {}\n",
        "  for index in indexes:\n",
        "    mean = demand[index[0]]\n",
        "    stdv = demand_stdDev[index[0]]\n",
        "    ProbabilityH[index] = norm.cdf(capacityDict2[index], mean * highProb[h], stdv)\n",
        "  listOfProbH[h] = ProbabilityH\n",
        "for l in range(5):\n",
        "  ProbabilityL = {}\n",
        "  for index in indexes:\n",
        "    mean = demand[index[0]]\n",
        "    stdv = demand_stdDev[index[0]]\n",
        "    ProbabilityL[index] = norm.cdf(capacityDict2[index], mean * lowProb[l], stdv)\n",
        "  listOfProbL[l] = ProbabilityL\n"
      ],
      "metadata": {
        "id": "n6z4VP96PJge"
      },
      "execution_count": null,
      "outputs": []
    },
    {
      "cell_type": "code",
      "source": [
        "for h in range(5):\n",
        "  for l in range(5):\n",
        "    # Create model\n",
        "    m5 = gp.Model(\"Assignment Sensitivity\", env = env)\n",
        "\n",
        "    #variables\n",
        "    XHS = m5.addVars(indexes, vtype = GRB.BINARY, name = \"XH\")\n",
        "    XLS = m5.addVars(indexes, vtype = GRB.BINARY, name = \"XL\")\n",
        "\n",
        "    # Defining Objective Function\n",
        "    m5.setObjective(0.4 * XHS.prod(listOfProbH[h]) + 0.6 * XLS.prod(listOfProbL[l]), GRB.MAXIMIZE)\n",
        "\n",
        "    # Generating Constraints\n",
        "    m5.addConstr(XLS.prod(OCunits) <= OCUsed)\n",
        "    m5.addConstr(XHS.prod(OCunits) <= OCUsed)\n",
        "    m5.addConstr(XLS.prod(OHunits) <= OHUsed)\n",
        "    m5.addConstr(XHS.prod(OHunits) <= OHUsed)\n",
        "    m5.addConstrs(XHS.sum(c, '*') == 1 for c in range(200))\n",
        "    m5.addConstrs(XLS.sum(c, '*') == 1 for c in range(200))\n",
        "\n",
        "    m5.optimize()\n",
        "    solMat[l][h] = m5.objVal\n"
      ],
      "metadata": {
        "id": "dZPJIv-S5Wv6"
      },
      "execution_count": null,
      "outputs": []
    },
    {
      "cell_type": "code",
      "source": [
        "solMatR =np.floor(solMat).astype(int)\n",
        "print(solMatR)"
      ],
      "metadata": {
        "id": "WlhlsjTnF7jn"
      },
      "execution_count": null,
      "outputs": []
    },
    {
      "cell_type": "code",
      "source": [
        "plt.figure()\n",
        "sns.heatmap(solMatR.astype(int), cmap='vlag', annot=True, fmt='.0f', cbar=True, xticklabels=highProb, yticklabels=lowProb) # create seaborn heatmap with annotations, xticklabels and yticklabels\n",
        "# add a title\n",
        "plt.title(\"Number of under-crowded trains\")\n",
        "# add axis labels\n",
        "plt.ylabel(\"low demand peak\")\n",
        "plt.xlabel(\"high demand peak\")\n",
        "plt.show()"
      ],
      "metadata": {
        "id": "aQDA9FCPETpH"
      },
      "execution_count": null,
      "outputs": []
    },
    {
      "cell_type": "markdown",
      "source": [
        "**Extension 2: Allowing for storage of rolling stock units between trips**"
      ],
      "metadata": {
        "id": "uZavna41jf0t"
      }
    },
    {
      "cell_type": "code",
      "source": [
        "# Data Preprocessing (Coefficients & Indexes)\n",
        "# Generate Model\n",
        "extension2Model = gp.Model(\"Extension 2 Model\", env = env)\n",
        "\n",
        "# Create coefficients (index 0 --> OC, index 1 --> OH)\n",
        "lengthRequirement = [200 if x == 400 else 300 for x in line]\n",
        "costCoefficients = [260000, 210000]\n",
        "costDict = {}\n",
        "capacityCoefficients = [620, 420]\n",
        "capacityDict = {}\n",
        "lengthCoefficients = [100, 70]\n",
        "lengthDict = {}\n",
        "qty1Coefficients = [1, -1.25]\n",
        "qty1Dict = {}\n",
        "qty2Coefficients = [-1.25, 1]\n",
        "qty2Dict = {}\n",
        "\n",
        "for u in range(2):\n",
        "  for c in range(200):\n",
        "    costDict[(u, c)] = costCoefficients[u]\n",
        "    capacityDict[(u, c)] = capacityCoefficients[u]\n",
        "    lengthDict[(u, c)] = lengthCoefficients[u]\n",
        "    qty1Dict[(u, c)] = qty1Coefficients[u]\n",
        "    qty2Dict[(u, c)] = qty2Coefficients[u]\n",
        "\n",
        "# Generate Cofficients\n",
        "indexes = []\n",
        "\n",
        "for c in range(200):\n",
        "  for u in range(1):\n",
        "    indexes.append(((departureTime[c], arrivalTime[c]), (departureStation[c], arrivalStation[c]))) # ((t_D, t_A), (s_D, s_A))\n",
        "\n",
        "N = extension2Model.addVars(2, 200, vtype = GRB.INTEGER, name = \"N\")\n",
        "Y = extension2Model.addVars(2, 200, vtype = GRB.INTEGER, name = \"Y\")"
      ],
      "metadata": {
        "id": "uUxQJoeyp1_o"
      },
      "execution_count": null,
      "outputs": []
    },
    {
      "cell_type": "code",
      "source": [
        "# Generate constraints to relate N to Y variables\n",
        "extension2Model.setObjective(Y.prod(costDict))\n",
        "\n",
        "for u in range(2):\n",
        "  for c_star in range(200):\n",
        "    constraint = LinExpr()\n",
        "    for c in range(200):\n",
        "      if indexes[c][1][1] == indexes[c_star][1][0] and indexes[c][0][1] < indexes[c_star][0][0]:\n",
        "        constraint.add(N[u, c])\n",
        "      elif indexes[c][1][0] == indexes[c_star][1][0] and indexes[c][0][0] < indexes[c_star][0][0]:\n",
        "        constraint.add(Y[u, c] - N[u, c])\n",
        "\n",
        "    constraint.add(Y[u, c_star])\n",
        "    extension2Model.addConstr(constraint >= N[u, c_star])\n",
        "\n",
        "extension2Model.addConstrs(N.prod(capacityDict, '*', c) >= demand[c]  for c in range(200))\n",
        "extension2Model.addConstr(N.prod(qty1Dict) <= 0)\n",
        "extension2Model.addConstr(N.prod(qty2Dict) <= 0)\n",
        "extension2Model.addConstrs(N.prod(lengthDict, '*', c) <= lengthRequirement[c] for c in range(200))\n",
        "extension2Model.addConstrs(N[u, c] >= 0 for u in range(2) for c in range(200))\n",
        "extension2Model.addConstrs(Y[u, c] >= 0 for u in range(2) for c in range(200))\n",
        "\n",
        "extension2Model.optimize()"
      ],
      "metadata": {
        "id": "0h0gUg91oMA-"
      },
      "execution_count": null,
      "outputs": []
    },
    {
      "cell_type": "code",
      "source": [
        "solution = Y\n",
        "OC = 0\n",
        "OH = 0\n",
        "for index in solution.keys():\n",
        "  if index[0] == 0 and solution[index].X != 0:\n",
        "    OC += solution[index].X\n",
        "  if index[0] == 1 and solution[index].X != 0:\n",
        "    OH += solution[index].X\n",
        "\n",
        "\n",
        "print(OC)\n",
        "print(OH)"
      ],
      "metadata": {
        "id": "sTLkWI3iSjQT"
      },
      "execution_count": null,
      "outputs": []
    }
  ]
}